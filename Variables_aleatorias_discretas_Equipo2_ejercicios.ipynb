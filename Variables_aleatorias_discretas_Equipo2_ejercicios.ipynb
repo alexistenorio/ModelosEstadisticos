{
  "cells": [
    {
      "cell_type": "markdown",
      "id": "d50d92d5",
      "metadata": {
        "id": "d50d92d5"
      },
      "source": [
        "# Variables aleatorias discretas"
      ]
    },
    {
      "cell_type": "markdown",
      "id": "4r9FgjFEjSWl",
      "metadata": {
        "id": "4r9FgjFEjSWl"
      },
      "source": [
        "##**Ejercicios:**\n",
        "\n",
        "1.- Dibuja la función de distribución acumulada de una variable aleatoria $X\\sim \\text{Binom}(3,0.3)$. Calcula $\\mathbb{P}(X\\leq 2)$.\n",
        "\n"
      ]
    },
    {
      "cell_type": "code",
      "execution_count": null,
      "id": "fx5smiOtoWAL",
      "metadata": {
        "id": "fx5smiOtoWAL"
      },
      "outputs": [],
      "source": [
        "import matplotlib.pyplot as plt\n",
        "from scipy.stats import binom\n"
      ]
    },
    {
      "cell_type": "code",
      "execution_count": null,
      "id": "ad3UKVQTnK1E",
      "metadata": {
        "id": "ad3UKVQTnK1E"
      },
      "outputs": [],
      "source": [
        "n = 3  # Tamaño de la muestra (número de ensayos)\n",
        "p = 0.3  # Probabilidad de éxito en cada ensayo\n",
        "x = range(n + 1)  # Valores de x para calcular la FDA\n",
        "y = binom.cdf(x, n, p)  # Valores de la FDA binomial"
      ]
    },
    {
      "cell_type": "code",
      "execution_count": null,
      "id": "kGMkDnIUnVX2",
      "metadata": {
        "colab": {
          "base_uri": "https://localhost:8080/",
          "height": 472
        },
        "id": "kGMkDnIUnVX2",
        "outputId": "1822fbbc-5f2e-4758-efbd-3c0e98700ebc"
      },
      "outputs": [
        {
          "data": {
            "image/png": "[encoded data removed]",
            "text/plain": [
              "<Figure size 640x480 with 1 Axes>"
            ]
          },
          "metadata": {},
          "output_type": "display_data"
        }
      ],
      "source": [
        "plt.plot(x, y)\n",
        "plt.xlabel('Número de éxitos (k)')\n",
        "plt.ylabel('Probabilidad acumulada')\n",
        "plt.title('FDA Binomial - n = {}, p = {}'.format(n, p))\n",
        "plt.grid(True)\n",
        "plt.show()\n"
      ]
    },
    {
      "cell_type": "markdown",
      "id": "A8n4NTVEsgXi",
      "metadata": {
        "id": "A8n4NTVEsgXi"
      },
      "source": [
        "Calculando  P(X≤2) ."
      ]
    },
    {
      "cell_type": "markdown",
      "id": "yw0KcKCTp-vp",
      "metadata": {
        "id": "yw0KcKCTp-vp"
      },
      "source": [
        "$$\\begin{align*}\n",
        "\\mathbb{P}(X=0) &= \\binom{3}{0}(0.3)^{0}(0.7)^{3}=0.343 \\\\\n",
        "\\mathbb{P}(X=1) &= \\binom{3}{1}(0.3)^{1}(0.7)^{2}=0.441 \\\\\n",
        "\\mathbb{P}(X=2) &= \\binom{3}{2}(0.3)^{2}(0.7)^{1}=0.189 \\\\\n",
        "\\mathbb{P}(X\\le 2) &= \\mathbb{P}(X=0)+\\mathbb{P}(X=1)+\\mathbb{P}(X=2)\\\\\n",
        "\t\t\t&= 0.343 + 0.441 + 0.189 \\\\\n",
        "\t\t\t&= 0.973\n",
        "\\end{align*}$$"
      ]
    },
    {
      "cell_type": "markdown",
      "id": "l5S-XDVmppMO",
      "metadata": {
        "id": "l5S-XDVmppMO"
      },
      "source": [
        "2.- Determina si la variable aleatoria dad es una variable aleatoria binomial. Si es así, da los valores de los parámetros $n$ y $p$. Si no es binomial, justifica tu respuesta.\n",
        " - $X$ es el número de canicas negras en una muestra de $5$ canicas extraídas al azar y sin reemplazo de una caja que contiene $25$ canicas blancas y $15$ canicas negras.\n",
        "\n",
        "    * No es Variable aleatoria Binomial puesto que la probabilidad va cambiando conforme se sacan las canicas sin reemplazarlas nuevamente.\n",
        "\n",
        "- $X$ es el número de canicas negras en una muestra de 5\n",
        " canicas extraídas al azar y con reemplazo de una caja que contiene $25$\n",
        " canicas blancas y $15$\n",
        " canicas negras.\n",
        "\n",
        "    * Esta sí es una Variable aleatoria Binomial con $n = 5$ y $p = 3/8$\n",
        "\n",
        "- $X$ es el número de votantes a favor de la ley propuesta en una muestra de $1200$ votantes seleccionados aleatoriamente de todo el electorado de un país en el que el $35\\%$ de los votantes están a favor de la ley.\n",
        "\n",
        "    * Esta sí es una Variable aleatoria Binomial con $n = 1200$ y $p = 0.35$\n",
        "- $X$ es el número de monedas que coinciden con al menos otra moneda cuando se lanzan cuatro monedas a la vez.\n",
        "\n",
        "    * No parece ser una Variable aleatoria Binomial puesto que aunque los ensayos de lanzar 4 monedas justas son independientes, la variable aleatoria mide una cantidad dependiente del resultado de los otros ensayos (\"número de monedas que coinciden con al menos otra moneda\")."
      ]
    },
    {
      "cell_type": "markdown",
      "id": "Oj33xrEYprdH",
      "metadata": {
        "id": "Oj33xrEYprdH"
      },
      "source": [
        "3.- Investiga $5$ aplicaciones del uso de la variable aleatoria Poisson en la vida diaria y/o en tu experiencia.\n",
        "\n",
        "\n",
        "10 Aplicaciones de la variable aleatoria de Poisson:\n",
        "\n",
        "1. Modelo de llamadas telefónicas: Predecir el número de llamadas que recibe un centro de atención al cliente en un intervalo de tiempo específico, como una hora o un día.\n",
        "\n",
        "2. Análisis de tráfico vehicular: Estimación del número de autos que pasan por una intersección en un minuto o una hora.\n",
        "\n",
        "3. Control de calidad: Monitoreo de la cantidad de defectos en productos manufacturados durante un proceso de producción.\n",
        "\n",
        "4. Llegadas a emergencias: Pronosticar el número de pacientes que llegan a una sala de emergencias en un período determinado.\n",
        "\n",
        "5. Ocurrencia de eventos biológicos: Modelar la cantidad de mutaciones en una secuencia de ADN o la frecuencia de eventos biológicos específicos.\n",
        "\n",
        "6. Transacciones financieras: Predecir el número de transacciones de acciones en un día o la cantidad de operaciones de un cajero automático en un intervalo de tiempo.\n",
        "\n",
        "7. Reclamos de seguros: Estimación del número de reclamos de seguros presentados en un mes o año, según el tipo de seguro.\n",
        "\n",
        "8. Mantenimiento de maquinaria: Planificar el mantenimiento preventivo de maquinaria en función de la tasa promedio de averías.\n",
        "\n",
        "9. Visitas a un sitio web: Modelar el número de visitas que recibe un sitio web en un día o una semana.\n",
        "\n",
        "10. Descargas de archivos: Predecir la cantidad de descargas de archivos desde un servidor en un período determinado.\n",
        "\n",
        "Bonus:\n",
        "\n",
        "- Modelos de redes sociales: Estimación del número de publicaciones, comentarios o interacciones en una red social durante un intervalo de tiempo.\n",
        "- Estudios de epidemiología: Análisis de la incidencia de enfermedades o eventos de salud pública en una población.\n"
      ]
    }
  ],
  "metadata": {
    "colab": {
      "provenance": []
    },
    "kernelspec": {
      "display_name": "Python 3 (ipykernel)",
      "language": "python",
      "name": "python3"
    },
    "language_info": {
      "codemirror_mode": {
        "name": "ipython",
        "version": 3
      },
      "file_extension": ".py",
      "mimetype": "text/x-python",
      "name": "python",
      "nbconvert_exporter": "python",
      "pygments_lexer": "ipython3",
      "version": "3.9.13"
    }
  },
  "nbformat": 4,
  "nbformat_minor": 5
}
