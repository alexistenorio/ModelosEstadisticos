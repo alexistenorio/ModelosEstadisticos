{
  "cells": [
    {
      "cell_type": "markdown",
      "metadata": {
        "id": "Zc9c6fpH7tOx"
      },
      "source": [
        "# Lanzamiento de dos dados"
      ]
    },
    {
      "cell_type": "markdown",
      "metadata": {
        "id": "oGwp3O6m76DD"
      },
      "source": [
        "## Diccionarios:\n",
        "\n",
        "$$\\{\\text{key}:\\text{values}\\}.$$"
      ]
    },
    {
      "cell_type": "code",
      "execution_count": 2,
      "metadata": {
        "id": "bAXTxjQXsLZp"
      },
      "outputs": [],
      "source": [
        "d = {\"Brandon\": [\"Bolo\", \"Mayoneso\", \"Luna\"],\n",
        "     \"Julio\": [3, 10, 12],\n",
        "     \"Gal\": [7.0, 5.0, 6.0]}"
      ]
    },
    {
      "cell_type": "code",
      "execution_count": 3,
      "metadata": {
        "colab": {
          "base_uri": "https://localhost:8080/"
        },
        "id": "1U0xkzVA9jC1",
        "outputId": "7c6a415d-d79e-42c1-e9d7-e7675f54f963"
      },
      "outputs": [
        {
          "data": {
            "text/plain": [
              "dict"
            ]
          },
          "execution_count": 3,
          "metadata": {},
          "output_type": "execute_result"
        }
      ],
      "source": [
        "type(d)"
      ]
    },
    {
      "cell_type": "code",
      "execution_count": 4,
      "metadata": {
        "colab": {
          "base_uri": "https://localhost:8080/"
        },
        "id": "CswA0Ax-9vBS",
        "outputId": "eb012757-de67-421e-91cb-95b2acf00d12"
      },
      "outputs": [
        {
          "data": {
            "text/plain": [
              "dict_keys(['Brandon', 'Julio', 'Gal'])"
            ]
          },
          "execution_count": 4,
          "metadata": {},
          "output_type": "execute_result"
        }
      ],
      "source": [
        "d.keys() # Son las llaves de un diccionario"
      ]
    },
    {
      "cell_type": "code",
      "execution_count": 5,
      "metadata": {
        "colab": {
          "base_uri": "https://localhost:8080/"
        },
        "id": "vqeYQNbG-vHC",
        "outputId": "c2e690d3-2328-4643-ee2f-dfeb72045a3e"
      },
      "outputs": [
        {
          "data": {
            "text/plain": [
              "dict_values([['Bolo', 'Mayoneso', 'Luna'], [3, 10, 12], [7.0, 5.0, 6.0]])"
            ]
          },
          "execution_count": 5,
          "metadata": {},
          "output_type": "execute_result"
        }
      ],
      "source": [
        "d.values()"
      ]
    },
    {
      "cell_type": "code",
      "execution_count": 6,
      "metadata": {
        "colab": {
          "base_uri": "https://localhost:8080/"
        },
        "id": "5UhJcXwg-zoI",
        "outputId": "279487b0-8019-4995-f93b-6e379bcb21e2"
      },
      "outputs": [
        {
          "data": {
            "text/plain": [
              "dict_items([('Brandon', ['Bolo', 'Mayoneso', 'Luna']), ('Julio', [3, 10, 12]), ('Gal', [7.0, 5.0, 6.0])])"
            ]
          },
          "execution_count": 6,
          "metadata": {},
          "output_type": "execute_result"
        }
      ],
      "source": [
        "d.items()"
      ]
    },
    {
      "cell_type": "markdown",
      "metadata": {
        "id": "0pEgDmSl_zEw"
      },
      "source": [
        "## Se lanzan dos dados justos:\n",
        "\n",
        "- $\\Omega = \\{1,2,3,4,5,6\\}\\times \\{1,2,3,4,5,6 \\}$.\n",
        "- $\\mathcal{F}=p(\\Omega)$.\n",
        "- Para $\\omega=(i,j)$ donde $i, j=1,\\dots, 6$\n",
        "$$\\mathbb{P}(\\{\\omega\\})=\\frac{1}{36}.$$\n",
        "\n",
        "-----\n",
        "\n",
        "## Vamos a definir a la siguiente variable aleatoria:\n",
        "$S$ es la variable aleatoria que cuenta la suma de las caras de los dados.\n",
        "\n",
        "$$S:\\Omega \\to R_{S}=\\{2, 3, 4, 5, 6, 7, 8, 9, 10, 11, 12 \\}$$"
      ]
    },
    {
      "cell_type": "markdown",
      "metadata": {
        "id": "pR4lIByoCm4X"
      },
      "source": [
        "Para entender a la ley de la variable aleatoria, basta con entender a los siguientes datos:\n",
        "$$\\{(k, \\mathbb{P}(S=k)) \\}_{k\\in R_{S}}.$$"
      ]
    },
    {
      "cell_type": "markdown",
      "metadata": {
        "id": "LV_YVSpYDo5x"
      },
      "source": [
        "Veamos a $S$ como eventos. Sea $S_{n}$ el evento la suma de las caras es $n$."
      ]
    },
    {
      "cell_type": "code",
      "execution_count": 2,
      "metadata": {
        "id": "3D7SUivV_XGG"
      },
      "outputs": [],
      "source": [
        "from itertools import product\n",
        "from fractions import Fraction"
      ]
    },
    {
      "cell_type": "code",
      "execution_count": 8,
      "metadata": {
        "id": "NMZ4hgiKEIu0"
      },
      "outputs": [],
      "source": [
        "# Función para obtener la probabilidad del evento A sobre el espacio muestral Omega\n",
        "def P(A, Omega):\n",
        "  P = Fraction(len(A), len(Omega) )\n",
        "  return P"
      ]
    },
    {
      "cell_type": "markdown",
      "metadata": {
        "id": "c97Faj-dEfvz"
      },
      "source": [
        "$$S_{n}=\\{(i,j)\\in \\Omega : i+j =n \\}$$"
      ]
    },
    {
      "cell_type": "code",
      "execution_count": 9,
      "metadata": {
        "colab": {
          "base_uri": "https://localhost:8080/"
        },
        "id": "xdKgALyfEdBJ",
        "outputId": "00d08bb8-a63b-4a21-b9ae-171f07baa6fe"
      },
      "outputs": [
        {
          "data": {
            "text/plain": [
              "{(1, 1)}"
            ]
          },
          "execution_count": 9,
          "metadata": {},
          "output_type": "execute_result"
        }
      ],
      "source": [
        "# Obtenemos el evento en el que la suma de los dados es 2\n",
        "S_2 = {(i,j) for i in range(1,7) for j in range(1,7) if i+j == 2 }\n",
        "S_2"
      ]
    },
    {
      "cell_type": "code",
      "execution_count": 10,
      "metadata": {
        "colab": {
          "base_uri": "https://localhost:8080/"
        },
        "id": "WiGgELw9FrJy",
        "outputId": "39dfaf6f-38d9-4ec3-bb2a-90ce2a4ee589"
      },
      "outputs": [
        {
          "data": {
            "text/plain": [
              "{(1, 1),\n",
              " (1, 2),\n",
              " (1, 3),\n",
              " (1, 4),\n",
              " (1, 5),\n",
              " (1, 6),\n",
              " (2, 1),\n",
              " (2, 2),\n",
              " (2, 3),\n",
              " (2, 4),\n",
              " (2, 5),\n",
              " (2, 6),\n",
              " (3, 1),\n",
              " (3, 2),\n",
              " (3, 3),\n",
              " (3, 4),\n",
              " (3, 5),\n",
              " (3, 6),\n",
              " (4, 1),\n",
              " (4, 2),\n",
              " (4, 3),\n",
              " (4, 4),\n",
              " (4, 5),\n",
              " (4, 6),\n",
              " (5, 1),\n",
              " (5, 2),\n",
              " (5, 3),\n",
              " (5, 4),\n",
              " (5, 5),\n",
              " (5, 6),\n",
              " (6, 1),\n",
              " (6, 2),\n",
              " (6, 3),\n",
              " (6, 4),\n",
              " (6, 5),\n",
              " (6, 6)}"
            ]
          },
          "execution_count": 10,
          "metadata": {},
          "output_type": "execute_result"
        }
      ],
      "source": [
        "# Obtenemos el arreglo de posibles resultados al lanzar un dado\n",
        "L = [i for i in range(1,7)]\n",
        "\n",
        "# Obtenemos el espacio muestral Omega haciendo el producto cartesiano de los posibles resultados consigo mismo\n",
        "Omega = set(product(L, repeat =2 ))\n",
        "Omega"
      ]
    },
    {
      "cell_type": "code",
      "execution_count": 11,
      "metadata": {
        "colab": {
          "base_uri": "https://localhost:8080/"
        },
        "id": "i0vdEmDRFZG5",
        "outputId": "9d1e86a4-590e-4d86-9c89-5a2077e746ab"
      },
      "outputs": [
        {
          "data": {
            "text/plain": [
              "{(3, 4): 7,\n",
              " (4, 3): 7,\n",
              " (3, 1): 4,\n",
              " (5, 4): 9,\n",
              " (4, 6): 10,\n",
              " (5, 1): 6,\n",
              " (2, 2): 4,\n",
              " (1, 6): 7,\n",
              " (2, 5): 7,\n",
              " (1, 3): 4,\n",
              " (6, 2): 8,\n",
              " (6, 5): 11,\n",
              " (4, 2): 6,\n",
              " (4, 5): 9,\n",
              " (3, 3): 6,\n",
              " (5, 6): 11,\n",
              " (3, 6): 9,\n",
              " (5, 3): 8,\n",
              " (2, 4): 6,\n",
              " (1, 2): 3,\n",
              " (2, 1): 3,\n",
              " (1, 5): 6,\n",
              " (6, 1): 7,\n",
              " (6, 4): 10,\n",
              " (3, 2): 5,\n",
              " (4, 1): 5,\n",
              " (3, 5): 8,\n",
              " (5, 2): 7,\n",
              " (4, 4): 8,\n",
              " (5, 5): 10,\n",
              " (1, 1): 2,\n",
              " (1, 4): 5,\n",
              " (2, 3): 5,\n",
              " (2, 6): 8,\n",
              " (6, 6): 12,\n",
              " (6, 3): 9}"
            ]
          },
          "execution_count": 11,
          "metadata": {},
          "output_type": "execute_result"
        }
      ],
      "source": [
        "# Obtenemos el conjunto de eventos mapeados al resultado de la suma de los dos lanzamientos\n",
        "S = {(i,j): i+j for i,j in Omega}\n",
        "\n",
        "S"
      ]
    },
    {
      "cell_type": "code",
      "execution_count": 5,
      "metadata": {
        "colab": {
          "base_uri": "https://localhost:8080/"
        },
        "id": "tCdZjkJ4GbQK",
        "outputId": "0e05ce46-d7c6-4e85-f0e3-e63a98e7e749"
      },
      "outputs": [
        {
          "data": {
            "text/plain": [
              "defaultdict(set, {})"
            ]
          },
          "execution_count": 5,
          "metadata": {},
          "output_type": "execute_result"
        }
      ],
      "source": [
        "from collections import defaultdict\n",
        "\n",
        "dS = defaultdict(set)\n",
        "dS"
      ]
    },
    {
      "cell_type": "code",
      "execution_count": 13,
      "metadata": {
        "id": "0wQQasi-HYLf"
      },
      "outputs": [],
      "source": [
        "# Se genera un nuevo diccionario para agrupar los valores de los lanzamientos que nos da el mismo resultado al sumarlos \n",
        "for l, v in S.items():\n",
        "  dS[v].add(l)"
      ]
    },
    {
      "cell_type": "code",
      "execution_count": 14,
      "metadata": {
        "colab": {
          "base_uri": "https://localhost:8080/"
        },
        "id": "LzTW-QyBHt-d",
        "outputId": "bf753e52-e2b6-4a64-a1e4-d405ce0cb90a"
      },
      "outputs": [
        {
          "data": {
            "text/plain": [
              "defaultdict(set,\n",
              "            {7: {(1, 6), (2, 5), (3, 4), (4, 3), (5, 2), (6, 1)},\n",
              "             4: {(1, 3), (2, 2), (3, 1)},\n",
              "             9: {(3, 6), (4, 5), (5, 4), (6, 3)},\n",
              "             10: {(4, 6), (5, 5), (6, 4)},\n",
              "             6: {(1, 5), (2, 4), (3, 3), (4, 2), (5, 1)},\n",
              "             8: {(2, 6), (3, 5), (4, 4), (5, 3), (6, 2)},\n",
              "             11: {(5, 6), (6, 5)},\n",
              "             3: {(1, 2), (2, 1)},\n",
              "             5: {(1, 4), (2, 3), (3, 2), (4, 1)},\n",
              "             2: {(1, 1)},\n",
              "             12: {(6, 6)}})"
            ]
          },
          "execution_count": 14,
          "metadata": {},
          "output_type": "execute_result"
        }
      ],
      "source": [
        "dS"
      ]
    },
    {
      "cell_type": "code",
      "execution_count": 15,
      "metadata": {
        "colab": {
          "base_uri": "https://localhost:8080/"
        },
        "id": "brD5YygqI8wf",
        "outputId": "6ef87d7c-0061-4806-ef16-b54817f3db8c"
      },
      "outputs": [
        {
          "data": {
            "text/plain": [
              "{7: Fraction(1, 6),\n",
              " 4: Fraction(1, 12),\n",
              " 9: Fraction(1, 9),\n",
              " 10: Fraction(1, 12),\n",
              " 6: Fraction(5, 36),\n",
              " 8: Fraction(5, 36),\n",
              " 11: Fraction(1, 18),\n",
              " 3: Fraction(1, 18),\n",
              " 5: Fraction(1, 9),\n",
              " 2: Fraction(1, 36),\n",
              " 12: Fraction(1, 36)}"
            ]
          },
          "execution_count": 15,
          "metadata": {},
          "output_type": "execute_result"
        }
      ],
      "source": [
        "# Calculamos la probabilidad de obtener cada posible valor de sumar el resultado de los dados\n",
        "leyS = {k : P(A,Omega) for k , A in dS.items() }\n",
        "leyS"
      ]
    },
    {
      "cell_type": "markdown",
      "metadata": {
        "id": "zRJO-SbyJ2x0"
      },
      "source": [
        "## Introducción a pandas."
      ]
    },
    {
      "cell_type": "code",
      "execution_count": 11,
      "metadata": {
        "id": "wOjQu9ZlJn09"
      },
      "outputs": [],
      "source": [
        "import pandas as pd"
      ]
    },
    {
      "cell_type": "code",
      "execution_count": 18,
      "metadata": {
        "id": "VbH7OcRAKLxD"
      },
      "outputs": [],
      "source": [
        "# Ordenamos los resultados para mejor presentación\n",
        "leyS = pd.Series(leyS)\n",
        "leyS = leyS.sort_index()"
      ]
    },
    {
      "cell_type": "code",
      "execution_count": 19,
      "metadata": {
        "colab": {
          "base_uri": "https://localhost:8080/"
        },
        "id": "LSep_uSVKps6",
        "outputId": "edbb5862-b65d-43b0-ee81-4ff165ae8a39"
      },
      "outputs": [
        {
          "data": {
            "text/plain": [
              "2     1/36\n",
              "3     1/18\n",
              "4     1/12\n",
              "5      1/9\n",
              "6     5/36\n",
              "7      1/6\n",
              "8     5/36\n",
              "9      1/9\n",
              "10    1/12\n",
              "11    1/18\n",
              "12    1/36\n",
              "dtype: object"
            ]
          },
          "execution_count": 19,
          "metadata": {},
          "output_type": "execute_result"
        }
      ],
      "source": [
        "leyS"
      ]
    },
    {
      "cell_type": "markdown",
      "metadata": {
        "id": "fqIGXqIiPZZM"
      },
      "source": [
        "### Ejercicios:\n",
        "1.- Documenta tu colab.\n",
        "\n",
        "2.- Calcula la ley de las siguientes variables aleatorias:\n",
        "\n",
        "    - La diferencia de las caras sea mayor que $1$.\n",
        "\n",
        "    - La suma de las caras sea par.\n",
        "\n",
        "3.- Verifica, en cada caso, que $$\\sum_{k\\in R_{X}}\\mathbb{P}(X=x)=1.$$\n",
        "\n",
        "4.- Sube tu notebook a tu GitHub.\n",
        "\n",
        "\n"
      ]
    },
    {
      "cell_type": "markdown",
      "metadata": {
        "id": "O137dfCFQ4FX"
      },
      "source": [
        "## Calcula la ley de las siguientes variables aleatorias:\n",
        "\n",
        "### 1. La diferencia de las caras sea mayor que $1$:\n",
        "Sea $D$ la variable aleatoria que cuenta el valor absoluto de la diferencia de las caras de los dados.\n",
        "\n",
        "$$D:\\Omega \\to R_{S}=\\{0, 1, 2, 3, 4 , 5 \\}$$"
      ]
    },
    {
      "cell_type": "code",
      "execution_count": 3,
      "metadata": {},
      "outputs": [
        {
          "data": {
            "text/plain": [
              "{(1, 1),\n",
              " (1, 2),\n",
              " (1, 3),\n",
              " (1, 4),\n",
              " (1, 5),\n",
              " (1, 6),\n",
              " (2, 1),\n",
              " (2, 2),\n",
              " (2, 3),\n",
              " (2, 4),\n",
              " (2, 5),\n",
              " (2, 6),\n",
              " (3, 1),\n",
              " (3, 2),\n",
              " (3, 3),\n",
              " (3, 4),\n",
              " (3, 5),\n",
              " (3, 6),\n",
              " (4, 1),\n",
              " (4, 2),\n",
              " (4, 3),\n",
              " (4, 4),\n",
              " (4, 5),\n",
              " (4, 6),\n",
              " (5, 1),\n",
              " (5, 2),\n",
              " (5, 3),\n",
              " (5, 4),\n",
              " (5, 5),\n",
              " (5, 6),\n",
              " (6, 1),\n",
              " (6, 2),\n",
              " (6, 3),\n",
              " (6, 4),\n",
              " (6, 5),\n",
              " (6, 6)}"
            ]
          },
          "execution_count": 3,
          "metadata": {},
          "output_type": "execute_result"
        }
      ],
      "source": [
        "# Obtenemos el espacio muestral Omega haciendo el producto cartesiano de los posibles resultados consigo mismo\n",
        "L = [i for i in range(1,7)]\n",
        "Omega = set(product(L, repeat = 2))\n",
        "Omega"
      ]
    },
    {
      "cell_type": "markdown",
      "metadata": {},
      "source": [
        "$$D_{n}=\\{(i,j)\\in \\Omega : |i-j|=n \\}$$"
      ]
    },
    {
      "cell_type": "code",
      "execution_count": 4,
      "metadata": {},
      "outputs": [
        {
          "data": {
            "text/plain": [
              "{(3, 4): 1,\n",
              " (4, 3): 1,\n",
              " (3, 1): 2,\n",
              " (5, 4): 1,\n",
              " (4, 6): 2,\n",
              " (5, 1): 4,\n",
              " (2, 2): 0,\n",
              " (1, 6): 5,\n",
              " (2, 5): 3,\n",
              " (1, 3): 2,\n",
              " (6, 2): 4,\n",
              " (6, 5): 1,\n",
              " (4, 2): 2,\n",
              " (4, 5): 1,\n",
              " (3, 3): 0,\n",
              " (5, 6): 1,\n",
              " (3, 6): 3,\n",
              " (5, 3): 2,\n",
              " (2, 4): 2,\n",
              " (1, 2): 1,\n",
              " (2, 1): 1,\n",
              " (1, 5): 4,\n",
              " (6, 1): 5,\n",
              " (6, 4): 2,\n",
              " (3, 2): 1,\n",
              " (4, 1): 3,\n",
              " (3, 5): 2,\n",
              " (5, 2): 3,\n",
              " (4, 4): 0,\n",
              " (5, 5): 0,\n",
              " (1, 1): 0,\n",
              " (1, 4): 3,\n",
              " (2, 3): 1,\n",
              " (2, 6): 4,\n",
              " (6, 6): 0,\n",
              " (6, 3): 3}"
            ]
          },
          "execution_count": 4,
          "metadata": {},
          "output_type": "execute_result"
        }
      ],
      "source": [
        "# Obtenemos el conjunto de eventos mapeados al resultado del valor absoluto de la resta de los dos lanzamientos\n",
        "D = {(i,j): abs(i-j) for i,j in Omega}\n",
        "D"
      ]
    },
    {
      "cell_type": "code",
      "execution_count": 6,
      "metadata": {},
      "outputs": [
        {
          "data": {
            "text/plain": [
              "defaultdict(set,\n",
              "            {1: {(1, 2),\n",
              "              (2, 1),\n",
              "              (2, 3),\n",
              "              (3, 2),\n",
              "              (3, 4),\n",
              "              (4, 3),\n",
              "              (4, 5),\n",
              "              (5, 4),\n",
              "              (5, 6),\n",
              "              (6, 5)},\n",
              "             2: {(1, 3),\n",
              "              (2, 4),\n",
              "              (3, 1),\n",
              "              (3, 5),\n",
              "              (4, 2),\n",
              "              (4, 6),\n",
              "              (5, 3),\n",
              "              (6, 4)},\n",
              "             4: {(1, 5), (2, 6), (5, 1), (6, 2)},\n",
              "             0: {(1, 1), (2, 2), (3, 3), (4, 4), (5, 5), (6, 6)},\n",
              "             5: {(1, 6), (6, 1)},\n",
              "             3: {(1, 4), (2, 5), (3, 6), (4, 1), (5, 2), (6, 3)}})"
            ]
          },
          "execution_count": 6,
          "metadata": {},
          "output_type": "execute_result"
        }
      ],
      "source": [
        "# Se genera un nuevo diccionario para agrupar los valores de los lanzamientos que nos da el mismo resultado al restarlos \n",
        "dD = defaultdict(set)\n",
        "\n",
        "for i,j in D.items():\n",
        "  dD[j].add(i)\n",
        "\n",
        "dD"
      ]
    },
    {
      "cell_type": "code",
      "execution_count": 9,
      "metadata": {},
      "outputs": [
        {
          "data": {
            "text/plain": [
              "{1: Fraction(5, 18),\n",
              " 2: Fraction(2, 9),\n",
              " 4: Fraction(1, 9),\n",
              " 0: Fraction(1, 6),\n",
              " 5: Fraction(1, 18),\n",
              " 3: Fraction(1, 6)}"
            ]
          },
          "execution_count": 9,
          "metadata": {},
          "output_type": "execute_result"
        }
      ],
      "source": [
        "# Calculamos la probabilidad de obtener cada posible valor de sumar el resultado de los dados\n",
        "leyD = {k : P(A,Omega) for k, A in dD.items()}\n",
        "leyD"
      ]
    },
    {
      "cell_type": "code",
      "execution_count": 12,
      "metadata": {},
      "outputs": [
        {
          "data": {
            "text/plain": [
              "0     1/6\n",
              "1    5/18\n",
              "2     2/9\n",
              "3     1/6\n",
              "4     1/9\n",
              "5    1/18\n",
              "dtype: object"
            ]
          },
          "execution_count": 12,
          "metadata": {},
          "output_type": "execute_result"
        }
      ],
      "source": [
        "# Ordenamos los resultados para mejor presentación\n",
        "ley_D = pd.Series(leyD).sort_index()\n",
        "ley_D"
      ]
    },
    {
      "cell_type": "code",
      "execution_count": 13,
      "metadata": {},
      "outputs": [
        {
          "data": {
            "text/plain": [
              "Fraction(5, 9)"
            ]
          },
          "execution_count": 13,
          "metadata": {},
          "output_type": "execute_result"
        }
      ],
      "source": [
        "# Obteniendo la probabilidad de que la diferencia de las caras sea mayor a 1 mediante la ley de D\n",
        "ley_D[ley_D.index > 1].sum()"
      ]
    },
    {
      "cell_type": "code",
      "execution_count": 14,
      "metadata": {},
      "outputs": [
        {
          "data": {
            "text/plain": [
              "1.0"
            ]
          },
          "execution_count": 14,
          "metadata": {},
          "output_type": "execute_result"
        }
      ],
      "source": [
        "# Comprobando que la suma de la ley_D para todo k sea igual a 1.\n",
        "suma=0\n",
        "for i in range(0,6):\n",
        "  suma += ley_D[i]\n",
        "\n",
        "float(suma)"
      ]
    },
    {
      "cell_type": "markdown",
      "metadata": {},
      "source": [
        "### 2. La suma de las caras sea par:\n",
        "$S$ es la variable aleatoria que cuenta la suma de las caras de los dados.\n",
        "\n",
        "$$S:\\Omega \\to R_{S}=\\{2, 3, 4, 5, 6, 7, 8, 9, 10, 11, 12 \\}$$\n",
        "$$S_{n}=\\{(i,j)\\in \\Omega : i+j =n \\}$$"
      ]
    },
    {
      "cell_type": "code",
      "execution_count": 15,
      "metadata": {},
      "outputs": [
        {
          "data": {
            "text/plain": [
              "{(1, 1),\n",
              " (1, 2),\n",
              " (1, 3),\n",
              " (1, 4),\n",
              " (1, 5),\n",
              " (1, 6),\n",
              " (2, 1),\n",
              " (2, 2),\n",
              " (2, 3),\n",
              " (2, 4),\n",
              " (2, 5),\n",
              " (2, 6),\n",
              " (3, 1),\n",
              " (3, 2),\n",
              " (3, 3),\n",
              " (3, 4),\n",
              " (3, 5),\n",
              " (3, 6),\n",
              " (4, 1),\n",
              " (4, 2),\n",
              " (4, 3),\n",
              " (4, 4),\n",
              " (4, 5),\n",
              " (4, 6),\n",
              " (5, 1),\n",
              " (5, 2),\n",
              " (5, 3),\n",
              " (5, 4),\n",
              " (5, 5),\n",
              " (5, 6),\n",
              " (6, 1),\n",
              " (6, 2),\n",
              " (6, 3),\n",
              " (6, 4),\n",
              " (6, 5),\n",
              " (6, 6)}"
            ]
          },
          "execution_count": 15,
          "metadata": {},
          "output_type": "execute_result"
        }
      ],
      "source": [
        "# Obtenemos el arreglo de posibles resultados al lanzar un dado\n",
        "L = [i for i in range(1,7)]\n",
        "\n",
        "# Obtenemos el espacio muestral Omega haciendo el producto cartesiano de los posibles resultados consigo mismo\n",
        "Omega = set(product(L, repeat=2))\n",
        "Omega"
      ]
    },
    {
      "cell_type": "code",
      "execution_count": 16,
      "metadata": {},
      "outputs": [
        {
          "data": {
            "text/plain": [
              "{(3, 4): 7,\n",
              " (4, 3): 7,\n",
              " (3, 1): 4,\n",
              " (5, 4): 9,\n",
              " (4, 6): 10,\n",
              " (5, 1): 6,\n",
              " (2, 2): 4,\n",
              " (1, 6): 7,\n",
              " (2, 5): 7,\n",
              " (1, 3): 4,\n",
              " (6, 2): 8,\n",
              " (6, 5): 11,\n",
              " (4, 2): 6,\n",
              " (4, 5): 9,\n",
              " (3, 3): 6,\n",
              " (5, 6): 11,\n",
              " (3, 6): 9,\n",
              " (5, 3): 8,\n",
              " (2, 4): 6,\n",
              " (1, 2): 3,\n",
              " (2, 1): 3,\n",
              " (1, 5): 6,\n",
              " (6, 1): 7,\n",
              " (6, 4): 10,\n",
              " (3, 2): 5,\n",
              " (4, 1): 5,\n",
              " (3, 5): 8,\n",
              " (5, 2): 7,\n",
              " (4, 4): 8,\n",
              " (5, 5): 10,\n",
              " (1, 1): 2,\n",
              " (1, 4): 5,\n",
              " (2, 3): 5,\n",
              " (2, 6): 8,\n",
              " (6, 6): 12,\n",
              " (6, 3): 9}"
            ]
          },
          "execution_count": 16,
          "metadata": {},
          "output_type": "execute_result"
        }
      ],
      "source": [
        "# Obtenemos el conjunto de eventos mapeados al resultado de la suma de los dos lanzamientos\n",
        "S = {(i,j): i+j for i,j in Omega}\n",
        "S"
      ]
    },
    {
      "cell_type": "code",
      "execution_count": 17,
      "metadata": {},
      "outputs": [],
      "source": [
        "# Se genera un nuevo diccionario para agrupar los valores de los lanzamientos que nos da el mismo resultado al sumarlos \n",
        "for l, v in S.items():\n",
        "  dS[v].add(l)"
      ]
    },
    {
      "cell_type": "code",
      "execution_count": 18,
      "metadata": {},
      "outputs": [
        {
          "data": {
            "text/plain": [
              "{7: Fraction(1, 6),\n",
              " 4: Fraction(1, 12),\n",
              " 9: Fraction(1, 9),\n",
              " 10: Fraction(1, 12),\n",
              " 6: Fraction(5, 36),\n",
              " 8: Fraction(5, 36),\n",
              " 11: Fraction(1, 18),\n",
              " 3: Fraction(1, 18),\n",
              " 5: Fraction(1, 9),\n",
              " 2: Fraction(1, 36),\n",
              " 12: Fraction(1, 36)}"
            ]
          },
          "execution_count": 18,
          "metadata": {},
          "output_type": "execute_result"
        }
      ],
      "source": [
        "# Calculamos la probabilidad de obtener cada posible valor de sumar el resultado de los dados\n",
        "leyS = {k : P(A,Omega) for k , A in dS.items() }\n",
        "leyS"
      ]
    },
    {
      "cell_type": "code",
      "execution_count": 20,
      "metadata": {},
      "outputs": [
        {
          "data": {
            "text/plain": [
              "2     1/36\n",
              "3     1/18\n",
              "4     1/12\n",
              "5      1/9\n",
              "6     5/36\n",
              "7      1/6\n",
              "8     5/36\n",
              "9      1/9\n",
              "10    1/12\n",
              "11    1/18\n",
              "12    1/36\n",
              "dtype: object"
            ]
          },
          "execution_count": 20,
          "metadata": {},
          "output_type": "execute_result"
        }
      ],
      "source": [
        "# Ordenamos los resultados para mejor presentación\n",
        "leyS = pd.Series(leyS)\n",
        "leyS = leyS.sort_index()\n",
        "leyS"
      ]
    },
    {
      "cell_type": "code",
      "execution_count": 21,
      "metadata": {},
      "outputs": [
        {
          "data": {
            "text/plain": [
              "Fraction(1, 2)"
            ]
          },
          "execution_count": 21,
          "metadata": {},
          "output_type": "execute_result"
        }
      ],
      "source": [
        "# Obteniendo la probabilidad de que la suma de las caras sea par mediante la ley de S\n",
        "leyS[leyS.index % 2 == 0].sum()"
      ]
    },
    {
      "cell_type": "code",
      "execution_count": 23,
      "metadata": {},
      "outputs": [
        {
          "data": {
            "text/plain": [
              "1.0"
            ]
          },
          "execution_count": 23,
          "metadata": {},
          "output_type": "execute_result"
        }
      ],
      "source": [
        "# Comprobando que la suma de la leyS para todo k sea igual a 1.\n",
        "suma=0\n",
        "for i in range(2,13):\n",
        "  suma += leyS[i]\n",
        "\n",
        "float(suma)"
      ]
    }
  ],
  "metadata": {
    "colab": {
      "provenance": []
    },
    "kernelspec": {
      "display_name": "Python 3",
      "name": "python3"
    },
    "language_info": {
      "codemirror_mode": {
        "name": "ipython",
        "version": 3
      },
      "file_extension": ".py",
      "mimetype": "text/x-python",
      "name": "python",
      "nbconvert_exporter": "python",
      "pygments_lexer": "ipython3",
      "version": "3.12.2"
    }
  },
  "nbformat": 4,
  "nbformat_minor": 0
}
