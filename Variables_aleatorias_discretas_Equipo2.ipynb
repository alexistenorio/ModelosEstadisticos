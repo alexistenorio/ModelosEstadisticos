{
  "cells": [
    {
      "cell_type": "markdown",
      "id": "d50d92d5",
      "metadata": {
        "id": "d50d92d5"
      },
      "source": [
        "# Variables aleatorias discretas"
      ]
    },
    {
      "cell_type": "code",
      "source": [],
      "metadata": {
        "id": "7rDq4Fg30Odw"
      },
      "id": "7rDq4Fg30Odw",
      "execution_count": null,
      "outputs": []
    },
    {
      "cell_type": "code",
      "execution_count": null,
      "id": "f207a80a",
      "metadata": {
        "id": "f207a80a"
      },
      "outputs": [],
      "source": [
        "import numpy as np\n",
        "import numpy.random as npr\n",
        "import scipy.stats as sps\n",
        "import matplotlib.pyplot as plt\n",
        "import random\n"
      ]
    },
    {
      "cell_type": "markdown",
      "id": "bd499bb5",
      "metadata": {
        "id": "bd499bb5"
      },
      "source": [
        "# Variable aleatoria uniforme discreta\n",
        "\n",
        "Una variable aleatoria $X$ tiene distribución uniforme discreta en el conjunto $\\{x_{1},\\dots,x_{n}\\}$ si su función de masa de probabilidades está dada por\n",
        "$$f_{X}(k)=\\mathbb{P}(X=k)=\\begin{cases}\n",
        "\\frac{1}{n} &\\quad \\text{si } k\\in\\{x_{1},\\dots,x_{n}\\} \\\\\n",
        "0 &\\quad \\text{e.o.c}\n",
        "\\end{cases}$$\n",
        "\n",
        "**Notación:** $X\\sim Unif(x_{1},\\dots,x_{n}).$\n",
        "\n",
        "Se llama uniforme porque cada uno de los posibles valores de $X$ tienen la misma probabilidad.\n",
        "\n",
        "Si $X\\sim Unif(x_{1},\\dots,x_{n})$, en este caso, se tiene:\n",
        "\t$$\\mathbb{E}[X] = \\sum_{k}kf_{X}(k)=\\frac{x_n + x_1}{2}.$$\n",
        "\ty\n",
        "\t$$\\text{Var}(X) = \\mathbb{E}[(X-\\mathbb{E}[X])^{2}] =\\sum_{k}(k-\\mathbb{E}[X])^{2}f_{X}(k)=\\frac{(x_n - x_1+1)^2-1}{12}$$\n",
        "\n",
        "$\\color{red}{\\text{Ejercicio 1.}}$ Verifica que, en efecto, la esperanza y varianza de una variable aleatoria uniforme está dada como antes.\n",
        "\n",
        "**Esperanza:**\n",
        "\n",
        "Sabemos que la definición de la media viene dada por la expresión:\n",
        "\n",
        "$\\mathbb{E}[X] = \\sum_{i=1}^{n} x_i P(X=x_i)$\n",
        "\n",
        "Sustituyendo $P(X = x_i) = \\frac{1}{n}$ tenemos,\n",
        "\n",
        "$\\mathbb{E}[X] = \\sum_{i=1}^{n} x_i \\left(\\frac{1}{n}\\right) = \\frac{1}{n} \\sum_{i=1}^{n} x_i$\n",
        "\n",
        "Como ya sabemos, la suma $\\sum_{i=1}^{n} x_i$ es en realidad la suma de una serie aritmética de $n$ valores, es decir:\n",
        "\n",
        "$S_n = \\frac{n}{2} (a_1 + a_n)$, donde $S_n$ representa la suma de los n primeros términos de la serie aritmética.\n",
        "\n",
        "Para la variable aleatoria uniforme discreta, el primer término $a_1$ será el valor mínimo de la variable ($x_1$), mientras que $a_n$ será el valor máximo de la variable, es decir $x_n$. Sustituyendo, tenemos:\n",
        "\n",
        "$\\mathbb{E}[X] = \\frac{1}{n} \\sum_{i=1}^{n} x_i = \\frac{1}{n} \\left( \\frac{n}{2} (x_1 + x_n) \\right) = \\frac{x_n + x_1}{2}$\n",
        "\n",
        "**Varianza:**\n",
        "\n",
        "Para este caso, calcularemos el segundo momento y cambiamos la nomenclatura de $i$ a $x$, haciendo que la suma correspondiente vaya de $x=x_1$ hasta $x=x_n$:\n",
        "\n",
        "$\\mathbb{E}[X^2] = \\sum_{x=x_1}^{x_{n}} x^2 P(X = x) = \\frac{1}{n} \\sum_{x=x_1}^{x_n} x^2$\n",
        "\n",
        "Hacemos un cambio de variable donde $y = x - x_1 +1 \\rightarrow x = y + x_1 - 1$\n",
        "\n",
        "$\\therefore \\frac{1}{n} \\sum_{y = 1}^{x_n - x_1 + 1}(y + x_1 - 1)^2 = \\frac{1}{n} \\sum_{y = 1}^{x_n - x_1 + 1}[y^2 + (2x_1 - 2)y + (x_1 - 1)^2]$\n",
        "\n",
        "Aquí se utilizarán las siguientes expresiones, recordar la fórmula de suma para los primeros $n$ naturales al cuadrado y la suma aritmética de números naturales. Es decir, $C_n = \\frac{n(n + 1)(2n + 1)}{6}$ y $S_n = \\frac{n(n + 1)}{2}$ respectivamente. Además, recordemos que en el fondo $n = x_n - x_1 + 1$.\n",
        "\n",
        "$= \\frac{1}{x_n - x_1 + 1}[ \\frac{(x_n - x_1 + 1)(x_n - x_1 + 2)(2x_n - 2x_1 + 3)}{6} + \\frac{(2x_1 - 2)(x_n - x_1 + 1)(x_n - x_1 + 2)}{2} + (x_1 - 1)^2(x_n - x_1 + 1)]$\n",
        "\n",
        "$= [ \\frac{(x_n - x_1 + 2)(2x_n - 2x_1 + 3)}{6} + \\frac{(2x_1 - 2)(x_n - x_1 + 2)}{2} + (x_1 - 1)^2]$\n",
        "\n",
        "$= \\frac{2x_1^2 + 2x_n^2 + 2x_1x_n - x_1 + x_n}{6}$\n",
        "\n",
        "Ahora calculamos la varianza:\n",
        "\n",
        "$\\text{Var(X)} = \\mathbb{E}[X^2] - [\\mathbb{E}[X]]^2 = \\frac{2x_1^2 + 2x_n^2 + 2x_1x_n - x_1 + x_n}{6} - \\frac{(x_n + x_1)^2}{4}$\n",
        "\n",
        "$= \\frac{x_1^2 + x_n^2 - 2x_1x_n - 2x_1 + 2x_n}{12} = \\frac{(x_n - x_1 + 1)^2 - 1}{12}$\n",
        "\n"
      ]
    },
    {
      "cell_type": "markdown",
      "source": [
        "**Ejemplo** Se lleva a cabo una rifa donde los boletos están enumerados del $00$ al $99$. Si $Y$ es la variable aleatoria definida como el número del boleto ganador, entonces:  \n",
        "$$\\mathbb{P}(Y=k)=\\begin{cases}\n",
        "\t\\frac{1}{100} &\\quad \\text{si } k=00,01,\\dots,99 \\\\\n",
        "\t0 &\\quad \\text{e.o.c}\n",
        "\\end{cases}$$\n",
        "Consideremos que el premio de la rifa se determina a partir del número premiado de la siguiente forma: $X=Y+1$, donde $X$ es el monto del premio en pesos y $Y$ es el número premiado, entonces $X$ es una variable aleatoria, pues es una función de $Y$, y además se tiene\n",
        "\t$$f_{X}(k)=\\begin{cases}\n",
        "\t\t\\frac{1}{100} &\\quad \\text{si } x=1,2,\\dots,100 \\\\\n",
        "\t\t0 &\\quad \\text{e.o.c}\n",
        "\t\\end{cases}$$\n",
        "Entonces, la esperanza y varianza de $X$ están dados por:\n",
        "\t$$\\mathbb{E}[X] = \\sum_{k=1}^{100}k\\left(\\frac{1}{100}\\right) = \\frac{1}{100}\\sum_{k=1}^{100}k = \\frac{1}{100}\\left[\\frac{100(100+1)}{2}\\right] = 50.5$$\n",
        "\ty\n",
        "\t$$\\text{Var}(X) = \\mathbb{E}[X^{2}]-(\\mathbb{E}[X])^{2} = \\sum_{k=1}^{100}k^{2}\\left(\\frac{1}{100}\\right)-(50.5)^{2} = 833.25$$   \n",
        "    \n",
        "Supongamos que nos interesa calcular la probabilidad de que el premio sea mayor a $\\$80$, entonces\n",
        "\t$$\\mathbb{P}(X>80) = \\sum_{k=81}^{100}\\frac{1}{100} = \\frac{20}{100} = 0.2$$\n",
        "\tSu función de distribución esta dada por:\n",
        "\t$$F_{X}(x)=\\mathbb{P}(X\\le x)=\\begin{cases}\n",
        "\t\t0 &\\quad \\text{si } x<1 \\\\\n",
        "\t\t\\frac{x}{100} &\\quad \\text{si } x=1,2,\\dots,100\\\\ 1 &\\quad \\text{si } x>100\n",
        "\t\\end{cases}$$     "
      ],
      "metadata": {
        "id": "7U0162jwtCRp"
      },
      "id": "7U0162jwtCRp"
    },
    {
      "cell_type": "markdown",
      "source": [
        "$\\color{red}{\\text{Ejercicio 2.}}$ Dibuja a la función de distribución acumulada de la variable aleatoria:\n",
        "$$S:\\{1,2,3,4,5,6\\}^{2}\\to \\{2, 3, 4, 5, 6, 7, 8, 9, 10, 11, 12 \\}$$\n",
        "dada por\n",
        "$S(i,j)=i+j.$"
      ],
      "metadata": {
        "id": "bsnUXVFS_OQF"
      },
      "id": "bsnUXVFS_OQF"
    },
    {
      "cell_type": "code",
      "source": [
        "import numpy as np\n",
        "import matplotlib.pyplot as plt\n",
        "\n",
        "# Generacion de combinaciones y calculo de sumas\n",
        "results = [i + j for i in range(1, 7) for j in range(1, 7)]\n",
        "\n",
        "#Contador de frecuencias\n",
        "values, counts = np.unique(results, return_counts=True)\n",
        "\n",
        "# Calculo de probabilidades y probabilidad acumulada\n",
        "probabilities = counts / 36  # Total de combinaciones es 6*6 = 36\n",
        "cdf = np.cumsum(probabilities)\n",
        "\n",
        "# Graficar de la funcion\n",
        "plt.step(values, cdf, where='mid')\n",
        "plt.xlabel('S = i + j')\n",
        "plt.ylabel('F(S)')\n",
        "plt.title('CDF : S(i, j) = i + j')\n",
        "plt.grid(True)\n",
        "plt.show()\n",
        "\n"
      ],
      "metadata": {
        "colab": {
          "base_uri": "https://localhost:8080/",
          "height": 472
        },
        "id": "-vkMjAhZAD2F",
        "outputId": "168325cf-ae4d-4d23-a8eb-be7d83f3ec2a"
      },
      "id": "-vkMjAhZAD2F",
      "execution_count": null,
      "outputs": [
        {
          "output_type": "display_data",
          "data": {
            "text/plain": [
              "<Figure size 640x480 with 1 Axes>"
            ],
            "image/png": "[encoded data removed]"
          },
          "metadata": {}
        }
      ]
    },
    {
      "cell_type": "code",
      "source": [
        "cdf"
      ],
      "metadata": {
        "id": "q9J0vTnJkb2P",
        "outputId": "a124d92d-7585-43d2-949d-a64f76b05b41",
        "colab": {
          "base_uri": "https://localhost:8080/"
        }
      },
      "id": "q9J0vTnJkb2P",
      "execution_count": null,
      "outputs": [
        {
          "output_type": "execute_result",
          "data": {
            "text/plain": [
              "array([0.02777778, 0.08333333, 0.16666667, 0.27777778, 0.41666667,\n",
              "       0.58333333, 0.72222222, 0.83333333, 0.91666667, 0.97222222,\n",
              "       1.        ])"
            ]
          },
          "metadata": {},
          "execution_count": 23
        }
      ]
    },
    {
      "cell_type": "markdown",
      "id": "1a2446e2",
      "metadata": {
        "id": "1a2446e2"
      },
      "source": [
        "## Variable aleatoria Bernoulli con parámetro $p\\in (0,1)$.\n",
        "\n",
        "El modelo probabilístico Bernoulli se aplica a un experimento cuyo espacio muestral está constituido sólo por dos resultados posibles, éxito y fracaso:\n",
        "\n",
        "Se considerará una v.a $X$ sobre el espacio muestral $$\\Omega=\\{\\text{éxito, fracaso}\\}$$\n",
        "de tal forma que\n",
        "* $X(\\{\\text{éxito}\\}) = 1$\n",
        "* $X(\\{\\text{fracaso}\\}) = 0$\n",
        "\n",
        "Las probabilidades asociadas a este modelo son:\n",
        "\n",
        "* $\\mathbb{P}(\\{\\text{éxito}\\}) = p$\n",
        "* $\\mathbb{P}(\\{\\text{fracaso}\\}) = 1-p$\n",
        "\n",
        "donde $0<p<1$.\n",
        "\n",
        "\n",
        "Entonces la función de densidad de masa de probabilidades de $X$ está dada por:\n",
        "\n",
        "$$f_{X}(k)=\\begin{cases}\n",
        "p &\\quad \\text{si } k=1 \\\\\n",
        "1-p &\\quad \\text{si } k=0\n",
        "\\end{cases}$$\n",
        "\n",
        "**Notación:** $X\\sim \\text{Ber}(p)$.\n",
        "\n",
        "Esta variable aleatoria es muy importante. En la practica es usada para modelar situaciones en las cuales hay dos posibles resultados como:\n",
        "* el estado de un teléfono en un momento dado: libre u ocupado.\n",
        "* una persona pueda estar enferma o sana de una determinada enfermedad.\n",
        "* la preferencia de una persona, la cual puede estar a favor o en contra de un candidato determinado.\n",
        "\n",
        "Mediante la combinación de variables aleatorias Bernoulli es posible construir otras variables aleatorias.\n",
        "\n",
        "### Esperanza y Varianza\n",
        "\n",
        "Si $X\\sim \\text{Ber}(p)$, entonces su esperanza es:\n",
        "\\begin{align*}\n",
        "\\mathbb{E}[X] = \\sum_{k=0}^{1}kf_{X}(k) = 1\\cdot p + 0\\cdot (1-p) = p.\n",
        "\\end{align*}\n",
        "\n",
        "Y su varianza se calcula usando,\n",
        "$$\\mathbb{E}[X^{2}] = \\sum_{k=0}^{1}k^{2}f_{X}(k) = 1^{2}\\cdot p + 0^{2}\\cdot (1-p) = p.$$\n",
        "Por lo tanto,\n",
        "$$\\text{Var}(X)=\\mathbb{E}[X^{2}]-(\\mathbb{E}[X])^{2} = p-p^{2} = p(1-p)$$\n",
        "\n"
      ]
    },
    {
      "cell_type": "code",
      "execution_count": null,
      "id": "L-YKfMOcr8hZ",
      "metadata": {
        "colab": {
          "base_uri": "https://localhost:8080/",
          "height": 526
        },
        "id": "L-YKfMOcr8hZ",
        "outputId": "2a62a263-c43f-4d25-ba30-2a6823b03acf"
      },
      "outputs": [
        {
          "output_type": "stream",
          "name": "stdout",
          "text": [
            "Función de densidad =  [0.7 0.3]\n",
            "Esperanza = 0.3\n",
            "Varianza = 0.21\n"
          ]
        },
        {
          "output_type": "display_data",
          "data": {
            "text/plain": [
              "<Figure size 640x480 with 1 Axes>"
            ],
            "image/png": "[encoded data removed]"
          },
          "metadata": {}
        }
      ],
      "source": [
        "from scipy.stats import bernoulli\n",
        "\n",
        "#Definimos la probabilidad el éxito\n",
        "p=0.3\n",
        "\n",
        "#Calculo de la función de densidad\n",
        "x=[0,1]\n",
        "print(\"Función de densidad = \",bernoulli.pmf(x,p))\n",
        "\n",
        "#Grafica de la función de densidad\n",
        "plt.bar(x,bernoulli.pmf(x,p),width=0.05) # color=[\"r\",\"b\"]\n",
        "plt.xlabel(\"\")\n",
        "plt.ylabel(\"Probabilidad\")\n",
        "plt.title(\"Distribución bernoulli con p=0.3\")\n",
        "\n",
        "# Calculo de la espranza y varianza\n",
        "media = bernoulli.mean(p)\n",
        "var = bernoulli.var(p)\n",
        "print(\"Esperanza =\",media)\n",
        "print(\"Varianza =\",var)"
      ]
    },
    {
      "cell_type": "markdown",
      "id": "5effadd4",
      "metadata": {
        "id": "5effadd4"
      },
      "source": [
        "## Variable aleatoria Binomial con parámetros $n$ y $p\\in (0,1)$.\n",
        "\n",
        "Decimos que una v.a $X$ tiene distribución binomial con párametros $n$ y $p$, si su función de densidad de masa de probabilidades está dada por:\n",
        "$$\\begin{equation*}\n",
        "\tf_{X}(k)=\\begin{cases}\n",
        "\t\\binom{n}{k}p^{k}(1-p)^{n-k} &\\quad \\text{si } k=0,1,\\dots,n \\\\\n",
        "\t\\qquad 0 &\\quad \\text{e.o.c}  \n",
        "\t\\end{cases}\n",
        "\\end{equation*}$$\n",
        "donde $n$ es un entero positivo y $0< p< 1$.\n",
        "\n",
        "La esperanza de $X$ es:\n",
        "\\begin{align*}\n",
        "\\mathbb{E}[X]&= \\sum_{k \\mathop = 0}^n k \\binom n k p^k (1-p)^{n - k}\\\\\n",
        "&=\\sum_{k \\mathop = 1}^n k \\binom n k p^k (1-p)^{n - k}\\\\\n",
        "&= \\sum_{k \\mathop = 1}^n n \\binom {n - 1} {k - 1} p^k (1-p)^{n - k}\\\\\n",
        "&= n p \\sum_{k \\mathop = 1}^n \\binom {n - 1} {k - 1} p^{k - 1} (1-p)^{( {n - 1}) - ( {k - 1}) }\\\\\n",
        "&=n p \\sum_{j \\mathop = 0}^m \\binom m j p^j (1-p)^{m - j}\\\\\n",
        "&=np\n",
        "\\end{align*}\n",
        "\n",
        "Ahora,\n",
        "\\begin{align*}\n",
        "\\mathbb{E}[X^2]&= \\sum_{k \\mathop = 0}^n k^2 \\binom n k p^k (1-p)^{n - k}\\\\\n",
        "&=\\sum_{k \\mathop = 0}^n k n \\binom {n - 1} {k - 1} p^k (1-p)^{n - k}\\\\\n",
        "&= n p \\sum_{k \\mathop = 1}^n k \\binom {n - 1} {k - 1} p^{k - 1} (1-p)^{({n - 1}) - ({k - 1}) }\\\\\n",
        "&= n p \\sum_{j \\mathop = 0}^m ({j + 1}) \\binom m j p^j (1-p)^{m - j}\\\\\n",
        "&=n p \\left( {\\sum_{j \\mathop = 0}^m j \\binom m j p^j (1-p)^{m - j} + \\sum_{j \\mathop = 0}^m \\binom m j p^j (1-p)^{m - j} }\\right)\\\\\n",
        "&=n p \\left( {\\sum_{j \\mathop = 0}^m m \\binom {m - 1} {j - 1} p^j (1-p)^{m - j} + \\sum_{j \\mathop = 0}^m \\binom m j p^j (1-p)^{m - j} }\\right)\\\\\n",
        "&= n p \\left( (n - 1) p \\sum_{j \\mathop = 1}^m \\binom {m - 1}{j - 1} p^{j - 1} (1-p)^{( {m - 1}) - ({j - 1}) } + \\sum_{j \\mathop = 0}^m \\binom m j p^j (1-p)^{m - j}\\right) \\\\\n",
        "&= n p \\left( (n - 1) p (p + (1-p))^{m - 1} + (p + (1-p))^m\\right)\\\\\n",
        "&= n p ((n - 1) p + 1)\\\\\n",
        "&= (np)^2 +np(1-p),\n",
        "\\end{align*}\n",
        "\n",
        "por lo que la varianza de $X$ es:\n",
        "$$\\text{Var}(X)=np(1-p).$$\n",
        "\n",
        "\n",
        "**Ejemplo** Una moneda no justa se tira 6 veces, donde la probabilidad de obtener sol es de $0.3$. Sea $X$ el número de veces que cae sol, entonces $X$ tiene una distribución binomial con parámetros $n=6$ y $p=0.3$. Por lo que\n",
        "$$\\begin{align*}\n",
        "\\mathbb{P}(X=2) &= \\binom{6}{2}(0.3)^{2}(0.7)^{4}=0.3241 \\\\\n",
        "\\mathbb{P}(X=3) &= \\binom{6}{3}(0.3)^{3}(0.7)^{3}=0.1852 \\\\\n",
        "\\mathbb{P}(1<X\\le 5) &= \\mathbb{P}(X=2)+\\mathbb{P}(X=3)+\\mathbb{P}(X=4)+\\mathbb{P}(X=5) \\\\\n",
        "\t\t\t&= 0.3241 + 0.1852 + \\binom{6}{4}(0.3)^{4}(0.7)^{2} + \\binom{6}{5}(0.3)^{5}(0.7)^{1} \\\\\n",
        "\t\t\t&= 0.5093 + 0.0595 + 0.0102 = 0.579\n",
        "\\end{align*}$$"
      ]
    },
    {
      "cell_type": "code",
      "execution_count": null,
      "id": "bf5e61d8",
      "metadata": {
        "id": "bf5e61d8",
        "outputId": "b296d085-8a41-4f5c-c426-51235e8d140f",
        "colab": {
          "base_uri": "https://localhost:8080/",
          "height": 528
        }
      },
      "outputs": [
        {
          "output_type": "display_data",
          "data": {
            "text/plain": [
              "<Figure size 1000x500 with 1 Axes>"
            ],
            "image/png": "[encoded data removed]"
          },
          "metadata": {}
        }
      ],
      "source": [
        "n = 25  # numbero de ensayos Bernoulli\n",
        "p = 0.3  # probabilidad de éxito\n",
        "s = 100000  # tamaño de muestras\n",
        "\n",
        "random.seed(3)\n",
        "binom_numberos = sps.binom.rvs(n, p, size=s) # genera variables aleatorias binomiales\n",
        "\n",
        "plt.figure(figsize=(10, 5))\n",
        "plt.hist(\n",
        "    binom_numberos,\n",
        "    density=True,\n",
        "    bins=len(np.unique(binom_numberos)),\n",
        "    color=\"#fc9d12\",\n",
        "    edgecolor=\"grey\",\n",
        ")\n",
        "plt.xlabel(\" \")\n",
        "plt.ylabel(\"Probabilidad\")\n",
        "plt.title(\"Distribución binomial \\npara tamaño=25 y p=0.3\")\n",
        "plt.xticks(\n",
        "    np.arange(min(binom_numberos), max(binom_numberos) + 1, 2.0)\n",
        ")\n",
        "\n",
        "\n",
        "plt.show()"
      ]
    },
    {
      "cell_type": "markdown",
      "source": [
        "# Variable aleatoria Poisson\n",
        "\n",
        "Es una distribución de probabilidad discreta que  sirve para calcular la probabilidad de que ocurra un determinado número de eventos raros durante un intervalo dado (puede ser de tiempo, longitud, área, etc.\n",
        "\n",
        "Esta variable aleatoria toma los valores sobre el conjunto $\\{0,1,2,\\dots\\}$ y tiene un parámetro $\\lambda>0$, el cual representa el número de veces que se espera que ocurra un evento durante un intervalo dado.\n",
        "\n",
        "La función de masa de probabilidades de una variable aleatoria Poisson, $X$, está dada por:\n",
        "$$f_{X}(k)=\\begin{cases}\n",
        "\te^{-\\lambda}\\frac{\\lambda^{k}}{k!} &\\quad \\text{si } k=0,1,2,\\dots \\\\\n",
        "\t0 &\\quad \\text{e.o.c}  \n",
        "\\end{cases}$$\n",
        "\n",
        "En efecto, es una función de masa de probabilidades debido a que\n",
        "$$\\begin{align*}\n",
        "\\sum_{k=0}^{\\infty}e^{-\\lambda}\\frac{\\lambda^{k}}{k!} &= e^{-\\lambda}\\sum_{k=0}^{\\infty}\\frac{\\lambda^{k}}{k!} \\\\ &= e^{-\\lambda}\\underbrace{\\left(1+\\lambda+\\frac{\\lambda^{2}}{2!}+\\frac{\\lambda^{3}}{3!}+\\cdots\\right)}_{\\text{desarrollo de Taylor de }e^{\\lambda}} \\\\ &= e^{-\\lambda}e^{\\lambda}=1.\n",
        "\\end{align*}$$\n",
        "\n",
        "**Aplicaciones**\n",
        "\n",
        "**Ejemplo:** Supongamos que el número de accidentes que ocurre en un punto tiene una distribución Poisson con parámetro $\\lambda=2$.\n",
        "* ¿Cuál es la probabilidad de que en un día ocurran más de dos accidentes?\n",
        "  $$\\begin{align*}\n",
        "\t\\mathbb{P}(X>2) &= 1-\\mathbb{P}(X\\le 2) \\\\ &=1-\\left[\\mathbb{P}(X=0)+\\mathbb{P}(X=1)+\\mathbb{P}(X=2)\\right] \\\\ &= 1-\\left[\\frac{e^{-2}2^{0}}{0!}+\\frac{e^{-2}2^{1}}{1!}+\\frac{e^{-2}2^{2}}{2!}\\right] \\\\ &= 1-e^{-2}\\left[1+2+2\\right] = 1-5e^{-2} = 0.3233\n",
        "  \\end{align*}$$\n",
        "\n",
        "* ¿Cuál es la probabilidad de que en un día ocurran más de dos accidentes, sabiendo que ocurre por lo menos uno?\n",
        "$$\\begin{align*}\n",
        "\\mathbb{P}(X>2 \\mid X\\ge 1) = \\frac{\\mathbb{P}(X>2 \\mid X\\ge 1)}{\\mathbb{P}(X\\ge 1)} = \\frac{\\mathbb{P}(X>2)}{\\mathbb{P}(X\\ge 1)} = \\frac{1-5e^{-2}}{1-e^{-2}} = \\frac{0.3233}{0.8646} = 0.3739\n",
        "\\end{align*}$$\n",
        "ya que $\\mathbb{P}(X\\ge 1)=1-\\mathbb{P}(X<1)=1-\\mathbb{P}(X=0)=1-e^{-2}$\n",
        "\n",
        "$\\color{red}{\\text{Ejercicio 3.}}$ Usando el atributo `.cdf` [Poisson](https://docs.scipy.org/doc/scipy/reference/generated/scipy.stats.poisson.html) calcula las probabilidades anteriores.\n",
        "\n"
      ],
      "metadata": {
        "id": "73pLB0Hmg5e4"
      },
      "id": "73pLB0Hmg5e4"
    },
    {
      "cell_type": "code",
      "source": [
        "import scipy.stats as ss\n",
        "poisson = ss.poisson(mu=2)\n",
        "P_1 = 1 - poisson.cdf(2)\n",
        "\n",
        "# Se requiere la probabilidad anterior y la probabilidad de P(X>=1)\n",
        "P_2 = 1 - poisson.cdf(0)\n",
        "# Posteriormente se hace el cociente de ambas probabilidades\n",
        "P_3 = P_1 / P_2\n",
        "\n",
        "print(\"Probability of X > 2:\", P_1)\n",
        "print(\"Probability of X > 2 | X >= 1:\", P_3)\n"
      ],
      "metadata": {
        "colab": {
          "base_uri": "https://localhost:8080/"
        },
        "id": "XLpRyunQM4rZ",
        "outputId": "716acaea-5b7e-449a-98bf-b778f21ce8bd"
      },
      "id": "XLpRyunQM4rZ",
      "execution_count": null,
      "outputs": [
        {
          "output_type": "stream",
          "name": "stdout",
          "text": [
            "Probability of X > 2: 0.3233235838169366\n",
            "Probability of X > 2 | X >= 1: 0.37392942900133747\n"
          ]
        }
      ]
    },
    {
      "cell_type": "markdown",
      "source": [
        "## Aproximación de Poisson a la Binomial\n",
        "La distribución de Poisson es una forma límite de la distribución binomial, es decir, es una buena aproximación cuando $n$ es suficientemente grande y $p$ suficientemente pequeña.\n",
        "\n",
        "$\\textbf{Teorema (Poisson).-}$ Sean $S_{n}\\sim Bin(n,p_{n})$ bajo el regimen $$\\lim_{n\\to \\infty}np_{n}=\\lambda>0.$$\n",
        "Consideremos la siguiente sucesión de números reales:\n",
        "$$a_{j}(n,p_n)=\\begin{cases}\\binom{n}{j}(p_n)^{j}(1-p_{n})^{n-j} & j\\leq n\\\\\n",
        "0 & j\\geq n+1\\end{cases}$$\n",
        "\n",
        " Entonces,\n",
        " $$\\lim_{n\\to \\infty}a_{j}(n,p_n)=a_{j}=e^{-\\theta}\\frac{\\lambda^{j}}{j!} \\ \\ \\forall j\\in \\mathbb{N}.$$\n",
        "\n",
        " El teorema anterior implica que la distribución de Poisson ofrece un modelo probabilístico adecuado para todos aquellos experimentos aleatorios \ten los que las repeticiones son independientes unas de otras y en los \tque sólo hay dos posibles resultados: éxito o fracaso, con probabilidad de \téxito pequeña, y en los que el interés se centra en conocer el número de éxitos obtenidos al realizar el experimento un número suficientemente grande de veces.\n",
        "\n",
        "Empíricamente se ha establecido, que la aproximación se puede aplicar con seguridad si $n\\ge100$, $p\\le 0.01$ y $np \\le20$.\n",
        "\n",
        "**Ejemplo** Supongamos que la probabilidad de que un producto producido por cierta máquina es defectuoso es de $0.1$. ¿Cuál es la probabilidad de que un lote de 10 productos contenga a lo más un producto defectuoso?\n",
        "\n",
        "Sea $X$ el número de productos defectuosos, y sabemos que $X$ tiene una distribución binomial con parámetros $n=10$ y $p=0.1$, entonces\n",
        "\\begin{align*}\n",
        "\\mathbb{P}(X\\le 1) &= \\mathbb{P}(X=0)+\\mathbb{P}(X=1) \\\\ &= \\binom{10}{0}(0.1)^{0}(0.9)^{10-0}+\\binom{10}{1}(0.1)^{1}(0.9)^{10-1} \\\\ &= 0.7361\n",
        "\t\\end{align*}\n",
        "\n",
        "Ahora, con la distribución Poisson, tenemos que $\\lambda=10(0.1)=1$, por lo que\n",
        "$$\\mathbb{P}(X\\le 1) = \\mathbb{P}(X=0)+\\mathbb{P}(X=1) = \\frac{e^{-1}1^{0}}{0!}+\\frac{e^{-1}1^{1}}{1!} = e^{-1}+e^{-1} =0.7358$$\n"
      ],
      "metadata": {
        "id": "lvcrHS-9MyE2"
      },
      "id": "lvcrHS-9MyE2"
    },
    {
      "cell_type": "code",
      "source": [
        "# Simulación de la aproximación\n",
        "param=3\n",
        "n=1000\n",
        "N=5000\n",
        "\n",
        "X=npr.binomial(n,param/n,N)\n",
        "\n",
        "counts = np.bincount(X) / float(N)\n",
        "x = np.arange(len(counts))\n",
        "f_x = sps.poisson.pmf(x, param)\n",
        "plt.close()\n",
        "plt.bar(x - 0.5, counts, width=1., label=\"ley empírica\")\n",
        "p2 = plt.stem(x, f_x, \"r\", label=\"ley teórica\")\n",
        "plt.legend()\n",
        "plt.show()"
      ],
      "metadata": {
        "colab": {
          "base_uri": "https://localhost:8080/",
          "height": 451
        },
        "id": "ZgZy5YC7hpNY",
        "outputId": "c88dada0-9b4a-4ebe-977d-8165598f5797"
      },
      "id": "ZgZy5YC7hpNY",
      "execution_count": null,
      "outputs": [
        {
          "output_type": "display_data",
          "data": {
            "text/plain": [
              "<Figure size 640x480 with 1 Axes>"
            ],
            "image/png": "[encoded data removed]"
          },
          "metadata": {}
        }
      ]
    },
    {
      "cell_type": "markdown",
      "source": [
        "### Generación de números aleatorios\n",
        "\n",
        "*Funciones de probabilidad*\n",
        "\n",
        "* Módulo Numpy: [Documentación](https://numpy.org)\n",
        "* Scipy: [Documentación](https://docs.scipy.org/doc/scipy/reference/stats.html)"
      ],
      "metadata": {
        "id": "WX3FbZCdOA4B"
      },
      "id": "WX3FbZCdOA4B"
    },
    {
      "cell_type": "code",
      "source": [
        "import numpy as np\n",
        "\n",
        "n, p = 10, .5 # number of trials, probability of each trial\n",
        "s = np.random.binomial(n, p, 10)\n",
        "# result of flipping a coin 10 times, tested 10 times\n",
        "s"
      ],
      "metadata": {
        "colab": {
          "base_uri": "https://localhost:8080/"
        },
        "id": "5iL9dLBMNj7c",
        "outputId": "61aef3c0-f6d2-443a-9654-05e64c3c26a4"
      },
      "id": "5iL9dLBMNj7c",
      "execution_count": null,
      "outputs": [
        {
          "output_type": "execute_result",
          "data": {
            "text/plain": [
              "array([9, 6, 6, 6, 7, 6, 6, 6, 5, 3])"
            ]
          },
          "metadata": {},
          "execution_count": 1
        }
      ]
    },
    {
      "cell_type": "markdown",
      "source": [
        "##**Ejercicios:**\n",
        "\n",
        "1.- Dibuja la función de distribución acumulada de una variable aleatoria $X\\sim \\text{Binom}(3,0.3)$. Calcula $\\mathbb{P}(X\\leq 2)$.\n",
        "\n"
      ],
      "metadata": {
        "id": "4r9FgjFEjSWl"
      },
      "id": "4r9FgjFEjSWl"
    },
    {
      "cell_type": "code",
      "source": [
        "import matplotlib.pyplot as plt\n",
        "from scipy.stats import binom\n"
      ],
      "metadata": {
        "id": "fx5smiOtoWAL"
      },
      "id": "fx5smiOtoWAL",
      "execution_count": null,
      "outputs": []
    },
    {
      "cell_type": "code",
      "source": [
        "n = 3  # Tamaño de la muestra (número de ensayos)\n",
        "p = 0.3  # Probabilidad de éxito en cada ensayo\n",
        "x = range(n + 1)  # Valores de x para calcular la FDA\n",
        "y = binom.cdf(x, n, p)  # Valores de la FDA binomial"
      ],
      "metadata": {
        "id": "ad3UKVQTnK1E"
      },
      "id": "ad3UKVQTnK1E",
      "execution_count": null,
      "outputs": []
    },
    {
      "cell_type": "code",
      "source": [
        "plt.plot(x, y)\n",
        "plt.xlabel('Número de éxitos (k)')\n",
        "plt.ylabel('Probabilidad acumulada')\n",
        "plt.title('FDA Binomial - n = {}, p = {}'.format(n, p))\n",
        "plt.grid(True)\n",
        "plt.show()\n"
      ],
      "metadata": {
        "colab": {
          "base_uri": "https://localhost:8080/",
          "height": 472
        },
        "id": "kGMkDnIUnVX2",
        "outputId": "1822fbbc-5f2e-4758-efbd-3c0e98700ebc"
      },
      "id": "kGMkDnIUnVX2",
      "execution_count": null,
      "outputs": [
        {
          "output_type": "display_data",
          "data": {
            "text/plain": [
              "<Figure size 640x480 with 1 Axes>"
            ],
            "image/png": "[encoded data removed]"
          },
          "metadata": {}
        }
      ]
    },
    {
      "cell_type": "markdown",
      "source": [
        "Calculando  P(X≤2) ."
      ],
      "metadata": {
        "id": "A8n4NTVEsgXi"
      },
      "id": "A8n4NTVEsgXi"
    },
    {
      "cell_type": "markdown",
      "source": [
        "$$\\begin{align*}\n",
        "\\mathbb{P}(X=0) &= \\binom{3}{0}(0.3)^{0}(0.7)^{3}=0.343 \\\\\n",
        "\\mathbb{P}(X=1) &= \\binom{3}{1}(0.3)^{1}(0.7)^{2}=0.441 \\\\\n",
        "\\mathbb{P}(X=2) &= \\binom{3}{2}(0.3)^{2}(0.7)^{1}=0.189 \\\\\n",
        "\\mathbb{P}(X\\le 2) &= \\mathbb{P}(X=0)+\\mathbb{P}(X=1)+\\mathbb{P}(X=2)\\\\\n",
        "\t\t\t&= 0.343 + 0.441 + 0.189 \\\\\n",
        "\t\t\t&= 0.973\n",
        "\\end{align*}$$"
      ],
      "metadata": {
        "id": "yw0KcKCTp-vp"
      },
      "id": "yw0KcKCTp-vp"
    },
    {
      "cell_type": "markdown",
      "source": [
        "2.- Determina si la variable aleatoria dad es una variable aleatoria binomial. Si es así, da los valores de los parámetros $n$ y $p$. Si no es binomial, justifica tu respuesta.\n",
        " - $X$ es el número de canicas negras en una muestra de $5$ canicas extraídas al azar y sin reemplazo de una caja que contiene $25$ canicas blancas y $15$ canicas negras.\n",
        "\n",
        "    * No es Variable aleatoria Binomial puesto que la probabilidad va cambiando conforme se sacan las canicas sin reemplazarlas nuevamente.\n",
        "\n",
        "- $X$ es el número de canicas negras en una muestra de 5\n",
        " canicas extraídas al azar y con reemplazo de una caja que contiene $25$\n",
        " canicas blancas y $15$\n",
        " canicas negras.\n",
        "\n",
        "    * Esta sí es una Variable aleatoria Binomial con $n = 5$ y $p = 3/8$\n",
        "\n",
        "- $X$ es el número de votantes a favor de la ley propuesta en una muestra de $1200$ votantes seleccionados aleatoriamente de todo el electorado de un país en el que el $35\\%$ de los votantes están a favor de la ley.\n",
        "\n",
        "    * Esta sí es una Variable aleatoria Binomial con $n = 1200$ y $p = 0.35$\n",
        "- $X$ es el número de monedas que coinciden con al menos otra moneda cuando se lanzan cuatro monedas a la vez.\n",
        "\n",
        "    * No parece ser una Variable aleatoria Binomial puesto que aunque los ensayos de lanzar 4 monedas justas son independientes, la variable aleatoria mide una cantidad dependiente del resultado de los otros ensayos (\"número de monedas que coinciden con al menos otra moneda\")."
      ],
      "metadata": {
        "id": "l5S-XDVmppMO"
      },
      "id": "l5S-XDVmppMO"
    },
    {
      "cell_type": "markdown",
      "source": [
        "3.- Investiga $5$ aplicaciones del uso de la variable aleatoria Poisson en la vida diaria y/o en tu experiencia.\n",
        "\n",
        "\n",
        "10 Aplicaciones de la variable aleatoria de Poisson:\n",
        "\n",
        "1. Modelo de llamadas telefónicas: Predecir el número de llamadas que recibe un centro de atención al cliente en un intervalo de tiempo específico, como una hora o un día.\n",
        "\n",
        "2. Análisis de tráfico vehicular: Estimación del número de autos que pasan por una intersección en un minuto o una hora.\n",
        "\n",
        "3. Control de calidad: Monitoreo de la cantidad de defectos en productos manufacturados durante un proceso de producción.\n",
        "\n",
        "4. Llegadas a emergencias: Pronosticar el número de pacientes que llegan a una sala de emergencias en un período determinado.\n",
        "\n",
        "5. Ocurrencia de eventos biológicos: Modelar la cantidad de mutaciones en una secuencia de ADN o la frecuencia de eventos biológicos específicos.\n",
        "\n",
        "6. Transacciones financieras: Predecir el número de transacciones de acciones en un día o la cantidad de operaciones de un cajero automático en un intervalo de tiempo.\n",
        "\n",
        "7. Reclamos de seguros: Estimación del número de reclamos de seguros presentados en un mes o año, según el tipo de seguro.\n",
        "\n",
        "8. Mantenimiento de maquinaria: Planificar el mantenimiento preventivo de maquinaria en función de la tasa promedio de averías.\n",
        "\n",
        "9. Visitas a un sitio web: Modelar el número de visitas que recibe un sitio web en un día o una semana.\n",
        "\n",
        "10. Descargas de archivos: Predecir la cantidad de descargas de archivos desde un servidor en un período determinado.\n",
        "\n",
        "Bonus:\n",
        "\n",
        "- Modelos de redes sociales: Estimación del número de publicaciones, comentarios o interacciones en una red social durante un intervalo de tiempo.\n",
        "- Estudios de epidemiología: Análisis de la incidencia de enfermedades o eventos de salud pública en una población.\n"
      ],
      "metadata": {
        "id": "Oj33xrEYprdH"
      },
      "id": "Oj33xrEYprdH"
    },
    {
      "cell_type": "markdown",
      "source": [
        "## Variable aleatoria Geométrica con parámetro $p\\in (0,1)$.\n",
        "\n",
        "Esta variable aleatoria cuenta el número de fracasos antes del primer éxito en ensayos bernoulli independientes con parámetro $0<p<1$, y su función de masa de probabilidades está dada por:\n",
        "$$f_{X}(k)=\\begin{cases}\n",
        "\tp(1-p)^{k-1} &\\quad \\text{si } k=1,2,\\dots \\\\\n",
        "\t\\qquad 0 &\\quad \\text{en otro caso}  \n",
        "\\end{cases}$$\n",
        "\n",
        "\n",
        "Notación. $X\\sim Geo(p)$\n",
        "\n",
        "La cual es una función de densidad ya que:\n",
        "* $0\\le f_{X}(k)\\le 1$ para toda $x$.\n",
        "* $$\\begin{align*}\n",
        "\t\\sum_{k\\in R_{X}}f_{X}(k) &= \\sum_{k=1}^{\\infty}(1-p)^{k-1}p \\\\\n",
        "\t\t\t&= p\\sum_{y=0}^{\\infty}(1-p)^{y} \\\\\n",
        "\t\t\t&= p\\left(\\frac{1}{1-(1-p)}\\right) = 1\n",
        "\t\t\\end{align*}$$\n",
        "\n",
        "Si por el contrario queremos contar el número de éxitos antes del primer fracaso, tenemos que la función de está dada por:\n",
        "\t$$f_{X}(k)=\\begin{cases}\n",
        "\t\tp^{k}(1-p) &\\quad \\text{si } k=0,1,2,\\dots \\\\\n",
        "\t\t\\qquad 0 &\\quad \\text{en otro caso}  \n",
        "\t\\end{cases}$$\n",
        "\n",
        "Para calcular la Esperanza y Varianza de $X$, necesitamos del siguiente lema:\n",
        "\n",
        "**Lema 1** Sea $x$ un número real tal que $│x│<1$. Entonces,\n",
        "$$\\sum_{k=1}^{\\infty}kx^{k-1}=\\frac{1}{(1-x)^2}.$$\n",
        "**Demostración.** Se tiene que\n",
        "$$\\frac{d}{dx}\\sum_{k=1}^{\\infty}x^{k}=\\sum_{k=1}^{\\infty}kx^{k-1}.$$\n",
        "Además,\n",
        "$$\\sum_{k=1}^{\\infty}x^{k}=\\frac{x}{1-x}.$$\n",
        "Por lo tanto,\n",
        "$$\\frac{d}{dx}\\frac{x}{1-x}=\\frac{1}{(1-x)^2}.$$\n",
        "\n",
        "Como corolario,\n",
        "$$\\sum_{k=1}^{\\infty}k(k+1)x^{k-1}=\\frac{2}{(1-x)^2}.$$\n",
        "En efecto,\n",
        "$$\\frac{d}{dx}\\sum_{k=1}^{\\infty}(k+1)x^{k}=\\sum_{k=1}^{\\infty}k(k+1)x^{k-1}.$$\n",
        "Ahora,\n",
        "$$\\sum_{k=1}^{\\infty}(k+1)x^{k}=\\sum_{m=2}^{\\infty}mx^{m-1}=\\frac{1}{(1-x)^2}-1.$$\n",
        "\n",
        "Usando estos resultados, la esperanza de $X$ es:\n",
        "\\begin{align*}\n",
        "\\mathbb{E}[X]&=  \\sum_{x \\mathop \\ge 1} k p(1-p)^{k - 1}\\\\\n",
        "&= p \\frac 1 {(1 - (1-p))^2}\\\\\n",
        "&=  \\frac p {p^2}\\\\\n",
        "&=\\frac{1}{p}\n",
        "\\end{align*}\n",
        "\n",
        "Calculamos,\n",
        "\\begin{align*}\n",
        "\\mathbb{E}[X^2]&= \\sum_{k=1}^{\\infty} x^{2}p(1-p)^{k-1}\\\\\n",
        "&=\\sum_{k=1}^{\\infty}k(k+1)(1-p)^{k-1}p-\\sum_{k=1}^{\\infty}p(1-p)^{k-1}\n",
        "\\end{align*}\n",
        "\n",
        "Por el Lema 1,\n",
        "$$\\mathbb{E}[X^2]=p\\frac{2}{p^3}-\\frac{1}{p}=\\frac{2}{p^2}-\\frac{1}{p}.$$\n",
        "\n",
        "Por lo tanto,\n",
        "$$\\text{Var}(X)=\\frac{2}{p^2}-\\frac{1}{p}-\\frac{1}{p^2}=\\frac{1-p}{p^2}.$$"
      ],
      "metadata": {
        "id": "4mz4tCaWg84X"
      },
      "id": "4mz4tCaWg84X"
    },
    {
      "cell_type": "markdown",
      "source": [
        "**Ejemplo.** Cada una de $12$ personas lanza una moneda indefinidamente, deteniendo sus lanzamientos en el momento en que se obtiene por primera vez águila. ¿Cuál es la probabilidad de que por lo menos $10$ de ellas realicen menos de $4$ lanzamientos?\n",
        "\n",
        "Sea $X$ el número de lanzamientos que se realizan antes de obtener por primera vez águila al lanzar una moneda indefinidamente y sea $Y$ el número de personas que realizan menos de $4$ lanzamientos. Así, $Y\\sim \\text{Binom}\\left(12, p=\\mathbb{P}(X<3) \\right)$, en donde $X\\sim \\text{Geo}(1/2)$. Así,\n",
        "- $p=\\frac{7}{8}$.\n",
        "- $\\mathbb{P}(Y\\geq 10)=0.818$"
      ],
      "metadata": {
        "id": "MBHSx-yOiL82"
      },
      "id": "MBHSx-yOiL82"
    },
    {
      "cell_type": "code",
      "source": [
        "p = sps.geom.cdf(3, 0.5)\n",
        "print(p)\n",
        "#La probabilidad buscada es:\n",
        "P = 1-sps.binom.cdf(9, 12, p)\n",
        "print(P)"
      ],
      "metadata": {
        "colab": {
          "base_uri": "https://localhost:8080/"
        },
        "outputId": "50c52971-3bf1-41c9-9409-74a5c5d92a8e",
        "id": "RNgkYqq9Qq7s"
      },
      "execution_count": null,
      "outputs": [
        {
          "output_type": "stream",
          "name": "stdout",
          "text": [
            "0.875\n",
            "0.8180006196344038\n"
          ]
        }
      ],
      "id": "RNgkYqq9Qq7s"
    },
    {
      "cell_type": "code",
      "source": [
        "p = 0.4  # probabilidad de éxito\n",
        "s = 100000  # tamaño de muestras\n",
        "\n",
        "\n",
        "random.seed(3)\n",
        "geom_numberos = sps.geom.rvs(p, size=s) # genera variables aleatorias geométricas\n",
        "\n",
        "plt.figure(figsize=(10, 5))\n",
        "plt.hist(\n",
        "    geom_numberos,\n",
        "    density=True,\n",
        "    bins=len(np.unique(geom_numberos)),\n",
        "    color=\"#26d526\",\n",
        "    edgecolor=\"grey\",\n",
        ")\n",
        "plt.xlabel(\" \")\n",
        "plt.ylabel(\"Probabilidad\")\n",
        "plt.title(\"Distribución Geométrica \\npara p=0.4\")\n",
        "plt.xticks(\n",
        "    np.arange(min(geom_numberos), max(geom_numberos) + 1, 2.0)\n",
        ")\n",
        "\n",
        "\n",
        "plt.show()"
      ],
      "metadata": {
        "colab": {
          "base_uri": "https://localhost:8080/",
          "height": 528
        },
        "id": "EWd_S584kGuI",
        "outputId": "0db05720-0b55-46c0-a068-62838df503d5"
      },
      "execution_count": null,
      "outputs": [
        {
          "output_type": "display_data",
          "data": {
            "text/plain": [
              "<Figure size 1000x500 with 1 Axes>"
            ],
            "image/png": "[encoded data removed]"
          },
          "metadata": {}
        }
      ],
      "id": "EWd_S584kGuI"
    },
    {
      "cell_type": "markdown",
      "source": [
        "## Variable aleatoria Binomial Negativa con parámetros $r\\geq 1$ y $p\\in (0,1)$.\n",
        "\n",
        "Supongamos que se realizan ensayos independientes, cada uno con probabilidad $0<p<1$ de ser un éxito, hasta obtener un total de $r$ éxitos acumulados. Sea $X$ el número de ensayos que se requieren, entonces su función de masa de probabilidades está dada por:\n",
        "$$f_{X}(k)=\\begin{cases}\n",
        "\t\\binom{k+r-1}{r-1}p^{r}(1-p)^{k} &\\quad \\text{si } k=0, 1, \\dots \\\\\n",
        "\t\\qquad 0 &\\quad \\text{en otro caso}  \n",
        "\\end{cases}$$\n",
        "\n",
        "\n",
        "\n",
        "Notación. $X\\sim \\text{BN}(r,p)$.\n",
        "\n",
        "Se tiene que\n",
        "$$\\mathbb{E}[X]=\\frac{r}{p}$$\n",
        "y\n",
        "$$\\text{Var}[X]=\\frac{r(1-p)}{p^2}.$$\n",
        "\n"
      ],
      "metadata": {
        "id": "I39XPyC-nW6W"
      },
      "id": "I39XPyC-nW6W"
    },
    {
      "cell_type": "code",
      "source": [
        "n = 10  # numbero de ensayos Bernoulli\n",
        "p = 0.4  # probabilidad de éxito\n",
        "s = 100000  # tamaño de muestras\n",
        "\n",
        "\n",
        "random.seed(3)\n",
        "geom_numeros = sps.nbinom.rvs(n,p, size=s) # genera variables aleatorias BNs\n",
        "\n",
        "plt.figure(figsize=(10, 5))\n",
        "plt.hist(\n",
        "    geom_numeros,\n",
        "    density=True,\n",
        "    bins=len(np.unique(geom_numeros)),\n",
        "    color=\"#FF00FF\",\n",
        "    edgecolor=\"grey\",\n",
        ")\n",
        "plt.xlabel(\" \")\n",
        "plt.ylabel(\"Probabilidad\")\n",
        "plt.title(\"Distribución BN \\npara r=10 y p=0.4\")\n",
        "plt.xticks(\n",
        "    np.arange(min(geom_numeros), max(geom_numeros) + 1, 2.0)\n",
        ")\n",
        "\n",
        "\n",
        "plt.show()"
      ],
      "metadata": {
        "colab": {
          "base_uri": "https://localhost:8080/",
          "height": 528
        },
        "id": "Vg3Sc9eumC5Z",
        "outputId": "ca7d7850-d9aa-41d4-d6f2-e176d8243ea9"
      },
      "execution_count": null,
      "outputs": [
        {
          "output_type": "display_data",
          "data": {
            "text/plain": [
              "<Figure size 1000x500 with 1 Axes>"
            ],
            "image/png": "[encoded data removed]"
          },
          "metadata": {}
        }
      ],
      "id": "Vg3Sc9eumC5Z"
    },
    {
      "cell_type": "markdown",
      "source": [
        "$\\color{red}{\\text{Ejercicio 4.}}$ Un examen de Estadística consta de 20 preguntas tipo test y se conoce de experiencias\n",
        "anteriores que un alumno tiene probabilidad 0.7 de contestar bien cada pregunta. Obtener:\n",
        "\n",
        "a) La probabilidad de que la primera pregunta que contesta bien sea la cuarta.\n",
        "\n",
        "b) Sabiendo que para aprobar el examen es necesario contestar bien a 10 preguntas, ¿cuál es la probabilidad de que apruebe al contestar la pregunta duodécima?\n",
        "\n",
        "Para el inciso a) tendremos que utilizar una variable aleatoria $X\\sim Geo(0.7)$"
      ],
      "metadata": {
        "id": "IX3VCzjuRAaP"
      },
      "id": "IX3VCzjuRAaP"
    },
    {
      "cell_type": "code",
      "source": [
        "from scipy.stats import geom\n",
        "\n",
        "p = 0.7\n",
        "geometric_distribution = geom(p=p)\n",
        "\n",
        "P_3 = geometric_distribution.pmf(k=4)\n",
        "print(\"Probabilidad de k = 4:\", P_3)"
      ],
      "metadata": {
        "colab": {
          "base_uri": "https://localhost:8080/"
        },
        "id": "gN1XNlSPFXEu",
        "outputId": "33164444-0b42-4095-c810-44d592920969"
      },
      "id": "gN1XNlSPFXEu",
      "execution_count": null,
      "outputs": [
        {
          "output_type": "stream",
          "name": "stdout",
          "text": [
            "Probabilidad de k = 4: 0.018900000000000007\n"
          ]
        }
      ]
    },
    {
      "cell_type": "markdown",
      "source": [
        "Para el inciso b) se requiere una variable aleatoria $Y\\sim BN(10, 0.7)$"
      ],
      "metadata": {
        "id": "2DTrrAmPO34k"
      },
      "id": "2DTrrAmPO34k"
    },
    {
      "cell_type": "code",
      "source": [
        "from scipy.stats import nbinom\n",
        "\n",
        "p = 0.7 ## Probabilidad de tener un acierto al contestar cada pregunta\n",
        "n = 10  ## número mínimo de aciertos para aprobar\n",
        "bn_distribution = nbinom(n=n, p=p)\n",
        "\n",
        "P_10 = bn_distribution.pmf(k=2) # Parametrización k\n",
        "print(\"Probabilidad de k = 2:\", P_10)"
      ],
      "metadata": {
        "colab": {
          "base_uri": "https://localhost:8080/"
        },
        "id": "R1nrFIudQ-xe",
        "outputId": "c02b4188-ce01-4221-c6e1-00c96be4990a"
      },
      "id": "R1nrFIudQ-xe",
      "execution_count": null,
      "outputs": [
        {
          "output_type": "stream",
          "name": "stdout",
          "text": [
            "Probabilidad de k = 2: 0.13982524825499987\n"
          ]
        }
      ]
    },
    {
      "cell_type": "markdown",
      "source": [
        "$\\color{red}{\\text{Ejercicio 5.}}$ Investigue sobre el problema de la caja de cerillos de Banach y explique su solución.\n",
        "\n",
        "###El problema de la caja de cerillos de Banach: Resumen y solución\n",
        "\n",
        "**Descripción:**\n",
        "\n",
        "El problema de la caja de cerillos de Banach, también conocido como el problema de la caja de fósforos de Banach, es un problema de probabilidad clásico propuesto por el matemático polaco Stefan Banach. El problema se plantea de la siguiente manera:\n",
        "\n",
        "**Un matemático lleva consigo dos cajas de cerillos. Al principio en cada caja hay $n$ cerillos. Cada vez que el matemático precisa un cerillo escoge al azar una de las cajas. Cuando necesita un cerillo y se da cuenta de que una de las cajas está vacía, ¿cuál es la probabilidad de que la otra caja tenga $k$ cerillos?**\n",
        "\n",
        "**Solución:**\n",
        "\n",
        "**Definición de variables aleatorias:**\n",
        "\n",
        "- $X$: Número de cerillos que quedan en la caja 1 cuando la caja 2 está vacía.\n",
        "- $Y$: Número de cerillos que quedan en la caja 2 cuando la caja 1 está vacía.\n",
        "\n",
        "**Espacio muestral:**\n",
        "\n",
        "El espacio muestral `S` consiste en todas las combinaciones posibles de cerillos en las cajas antes de que una de ellas se vacíe.\n",
        "\n",
        "**Eventos:**\n",
        "\n",
        "- $A$: Evento de que la caja 1 tiene $k$ cerillos cuando la caja 2 está vacía.\n",
        "- $B$: Evento de que la caja 2 tiene $k$ cerillos cuando la caja 1 está vacía.\n",
        "\n",
        "**Cálculo de la probabilidad:**\n",
        "\n",
        "La probabilidad de que la caja 2 tenga $k$ cerillos cuando la caja 1 está vacía (P(B)) se puede calcular utilizando la regla de Bayes:\n",
        "\n",
        "$$\n",
        "P(B) = P(A|B) \\cdot P(A) / P(B)\n",
        "$$\n",
        "\n",
        "- P(A|B): Probabilidad de que la caja 1 tenga $k$ cerillos dado que la caja 2 está vacía.\n",
        "- P(A): Probabilidad de que la caja 1 tenga $k$ cerillos.\n",
        "- P(B): Probabilidad de que la caja 2 esté vacía.\n",
        "\n",
        "**Cálculo de P(A|B):**\n",
        "\n",
        "P(A|B) es la probabilidad de que la caja 1 tenga $k$ cerillos después de haber sacado $n-k$ cerillos de la caja 2. Esta probabilidad se puede calcular utilizando la distribución binomial:\n",
        "\n",
        "$$\n",
        "P(A|B) = \\binom{n-k}{k} \\cdot p^k \\cdot (1-p)^{n-k-1}\n",
        "$$\n",
        "\n",
        "donde:\n",
        "\n",
        "- $\\binom{n-k}{k}$: Combinación de $(n-k)$ elementos tomados de a $k$.\n",
        "- $p$: Probabilidad de sacar un cerillo de la caja 2 (asumiendo que las cajas son idénticas).\n",
        "\n",
        "**Cálculo de P(A):**\n",
        "\n",
        "P(A) es la probabilidad de que la caja 1 tenga $k$ cerillos al principio. Esta probabilidad es simplemente la combinación de $n$ elementos tomados de a $k$:\n",
        "\n",
        "$$\n",
        "P(A) = \\binom{n}{k}\n",
        "$$\n",
        "\n",
        "**Cálculo de P(B):**\n",
        "\n",
        "P(B) es la probabilidad de que la caja 2 esté vacía. Esta probabilidad se puede calcular utilizando la distribución binomial:\n",
        "\n",
        "$$\n",
        "P(B) = \\binom{n}{0} \\cdot p^n\n",
        "$$\n",
        "\n",
        "donde:\n",
        "\n",
        "- $\\binom{n}{0}$: Combinación de $n$ elementos tomados de a 0 (es decir, 1).\n",
        "\n",
        "**Sustituyendo en la fórmula de Bayes:**\n",
        "\n",
        "$$\n",
        "P(B) = \\binom{n-k}{k} \\cdot p^k \\cdot (1-p)^{n-k-1} \\cdot \\binom{n}{k} / [\\binom{n}{0} \\cdot p^n]\n",
        "$$\n",
        "\n",
        "**Simplificando:**\n",
        "\n",
        "$$\n",
        "P(B) = \\binom{n}{k} \\cdot \\binom{n-k}{k} / \\binom{n}{0} \\cdot p^(k-n) \\cdot (1-p)^{n-k-1}\n",
        "$$\n",
        "\n",
        "**Solución final:**\n",
        "\n",
        "La probabilidad de que la caja 2 tenga $k$ cerillos cuando la caja 1 está vacía es:\n",
        "\n",
        "$$\n",
        "P(B) = \\binom{n}{k} \\cdot \\binom{n-k}{k} / \\binom{n}{0} \\cdot p^(k-n) \\cdot (1-p)^{n-k-1}\n",
        "$$\n",
        "\n",
        "**Explicación simple:**\n",
        "\n",
        "En términos simples, la probabilidad de que la caja 2 tenga k cerillos cuando la caja 1 está vacía depende de la distribución inicial de los cerillos en las cajas y de la probabilidad de sacar un cerillo de cualquiera de las cajas. La fórmula utiliza combinaciones para contar las diferentes formas en que los cerillos pueden distribuirse en las cajas y la distribución binomial para calcular la probabilidad de sacar un número específico de cerillos.\n"
      ],
      "metadata": {
        "id": "tQ0s-F197kLK"
      },
      "id": "tQ0s-F197kLK"
    },
    {
      "cell_type": "markdown",
      "source": [
        "## Variable aleatoria Hipergeométrica con parámetros $n,N,m$.\n",
        "\n",
        "Supongamos que se elige, sin reemplazo, una muestra de tamaño $n$ de una urna que contiene $N$ bolas, de las cuales $m$ son rojas y $N-m$ son verdes. Sea $X$ el número de ebolas rojas seleccionadas, entonces su función de masa de probabilidades está dada por:\n",
        "$$f_{X}(k)=\n",
        "\t\\frac{\\binom{m}{i}\\binom{N-m}{n-i}}{\\binom{N}{n}} \\quad \\text{si } i=0,1,\\dots, n  \n",
        "$$\n",
        "\n",
        "\n",
        "\n",
        "Notación. $X\\sim \\text{Hiper}(n,N,m)$.\n",
        "\n",
        "Se tiene que\n",
        "$$\\mathbb{E}[X]=\\frac{nm}{N}$$\n",
        "y\n",
        "$$\\text{Var}[X]=\\frac{nm}{N}\\left[\\frac{(n-1)(m-1)}{N-1}+1-\\frac{nm}{N} \\right].$$\n",
        "\n",
        "**Nota.** Si $i\\leq n$ y $X\\sim \\text{Hiper}(n,N,m)$, cuando $p=\\frac{m}{N}$ y $m,N$ son muy grandes con respecto a $n$ e $i$:\n",
        "$$\\mathbb{P}(X=i)\\approx \\binom{n}{i}p^{i}(1-p)^{n-i}.$$"
      ],
      "metadata": {
        "id": "8veKIbyeoJNy"
      },
      "id": "8veKIbyeoJNy"
    },
    {
      "cell_type": "code",
      "source": [
        "n = 40\n",
        "m = 32\n",
        "N = 7\n",
        "s = 100\n",
        "\n",
        "\n",
        "random.seed(3)\n",
        "geom_numeros = sps.hypergeom.rvs(n, m, N, size=s) # genera variables aleatorias hgeométricas\n",
        "\n",
        "plt.figure(figsize=(10, 5))\n",
        "plt.hist(\n",
        "    geom_numeros,\n",
        "    density=True,\n",
        "    bins=len(np.unique(geom_numeros)),\n",
        "    color=\"#5865F2\",\n",
        "    edgecolor=\"grey\",\n",
        ")\n",
        "plt.xlabel(\" \")\n",
        "plt.ylabel(\"Probabilidad\")\n",
        "plt.title(\"Distribución BN \\npara [40,7,32]\")\n",
        "plt.xticks(\n",
        "    np.arange(min(geom_numeros), max(geom_numeros) + 1, 2.0)\n",
        ")\n",
        "\n",
        "\n",
        "plt.show()"
      ],
      "metadata": {
        "colab": {
          "base_uri": "https://localhost:8080/",
          "height": 528
        },
        "id": "icUofN4ZoAuW",
        "outputId": "08afb816-8a07-47d3-8852-25cb2fda5218"
      },
      "execution_count": null,
      "outputs": [
        {
          "output_type": "display_data",
          "data": {
            "text/plain": [
              "<Figure size 1000x500 with 1 Axes>"
            ],
            "image/png": "[encoded data removed]"
          },
          "metadata": {}
        }
      ],
      "id": "icUofN4ZoAuW"
    },
    {
      "cell_type": "markdown",
      "source": [
        "$\\color{red}{\\text{Ejercicio 6.}}$ Una compañía petrolera realiza un estudio geológico que indica que un pozo petrolero exploratorio debería tener un 20% de posibilidades de encontrar petróleo.\n",
        "\n",
        "- ¿Cuál es la probabilidad de que el primer pozo se produzca en el tercer pozo perforado?\n",
        "\n",
        "- ¿Cuál es la probabilidad de que el tercer pozo se produzca en el séptimo pozo perforado?\n",
        "\n",
        "- ¿Cuál es la media y la varianza del número de pozos que se deben perforar si la compañía petrolera quiere establecer tres pozos productores?"
      ],
      "metadata": {
        "id": "V1rp8sMJpwiz"
      },
      "id": "V1rp8sMJpwiz"
    },
    {
      "cell_type": "markdown",
      "source": [
        "1. Probabilidad de que el primer pozo se produzca en el tercer pozo perforado:\n",
        "\n",
        "En este caso, buscamos la probabilidad de encontrar dos pozos secos seguidos de un pozo productor en tres perforaciones. La variable aleatoria binomial negativa nos permite calcular esta probabilidad:\n",
        "\n",
        "P(X = 2), donde X representa el número de pozos secos antes del primer pozo productor.\n",
        "\n",
        "Utilizando la fórmula de la binomial negativa:\n",
        "\n",
        "$$\n",
        "P(X = k) = \\binom{k+r-1}{r-1} p^r (1-p)^k\n",
        "$$\n",
        "\n",
        "Donde:\n",
        "\n",
        "r = 1 (número de pozos productores que buscamos, en este caso, 1)\n",
        "\n",
        "p = 0.2 (probabilidad de éxito, encontrar un pozo productor)\n",
        "\n",
        "k = 2 (número de pozos secos antes del primer pozo productor)\n",
        "\n",
        "Sustituyendo:\n",
        "\n",
        "$$\n",
        "P(X = 2) = \\binom{2+1-1}{1-1} (0.2)^1 (0.8)^2 = 0.128\n",
        "$$\n",
        "\n",
        "En Python:"
      ],
      "metadata": {
        "id": "fIatQytJXwNC"
      },
      "id": "fIatQytJXwNC"
    },
    {
      "cell_type": "code",
      "source": [
        "from scipy.stats import nbinom\n",
        "\n",
        "p = 0.2 ## Probabilidad de encontrar un pozo productor\n",
        "n = 1  ## número de pozos productores que se buscan\n",
        "bn_distribution = nbinom(n=n, p=p)\n",
        "\n",
        "P = bn_distribution.pmf(k=2)\n",
        "print(\"Probabilidad:\", P)"
      ],
      "metadata": {
        "colab": {
          "base_uri": "https://localhost:8080/"
        },
        "id": "bGqYl2AmYMxf",
        "outputId": "710bea46-2d0f-4160-94e2-16e3fdbfd062"
      },
      "id": "bGqYl2AmYMxf",
      "execution_count": null,
      "outputs": [
        {
          "output_type": "stream",
          "name": "stdout",
          "text": [
            "Probabilidad: 0.12799999999999997\n"
          ]
        }
      ]
    },
    {
      "cell_type": "markdown",
      "source": [
        "2. Probabilidad de que el tercer pozo se produzca en el séptimo pozo perforado:\n",
        "\n",
        "En este caso:\n",
        "\n",
        "r = 3 (número de pozos productores que buscamos, en este caso, 2)\n",
        "\n",
        "p = 0.2 (probabilidad de éxito, encontrar un pozo productor)\n",
        "\n",
        "k = 2 (número de pozos secos después de dos pozos productores)\n",
        "\n",
        "Sustituyendo:\n",
        "$$\n",
        "P(X = 4) = \\binom{4+3-1}{3-1} (0.2)^3 (0.8)^4 = \\binom{6}{2} (0.2)^3 (0.8)^4 = 15 \\cdot 0.008 \\cdot 0.4096 = 0.049152\n",
        "$$"
      ],
      "metadata": {
        "id": "SzNN404HYKQE"
      },
      "id": "SzNN404HYKQE"
    },
    {
      "cell_type": "code",
      "source": [
        "from scipy.stats import nbinom\n",
        "\n",
        "p = 0.2 ## Probabilidad de encontrar un pozo productor\n",
        "n = 3  ## número de pozos productores que se buscan\n",
        "bn_distribution = nbinom(n=n, p=p)\n",
        "\n",
        "P = bn_distribution.pmf(k=4) # Parametrización k, es el número de fracasos antes de un éxito\n",
        "print(\"Probabilidad:\", P)"
      ],
      "metadata": {
        "colab": {
          "base_uri": "https://localhost:8080/"
        },
        "id": "PSKsvgcIhSnf",
        "outputId": "400e29f0-2c85-4286-fe9e-72d47b813452"
      },
      "id": "PSKsvgcIhSnf",
      "execution_count": null,
      "outputs": [
        {
          "output_type": "stream",
          "name": "stdout",
          "text": [
            "Probabilidad: 0.04915200000000004\n"
          ]
        }
      ]
    },
    {
      "cell_type": "markdown",
      "source": [
        "3. ¿Cuál es la media y la varianza del número de pozos que se deben perforar si la compañía petrolera quiere establecer tres pozos productores?\n",
        "\n",
        "$p = 0.2$\n",
        "\n",
        "$r = 3$\n",
        "\n",
        "$→\\mathbb{E}(X)=\\frac{r}{p}=\\frac{3}{0.2}=15$\n",
        "\n",
        "$→\\text{Var}(X)=\\frac{r(1-p)}{p^2}=\\frac{3(1-0.2)}{(0.2)^2}=60$"
      ],
      "metadata": {
        "id": "23sP7N3MX88w"
      },
      "id": "23sP7N3MX88w"
    }
  ],
  "metadata": {
    "colab": {
      "provenance": []
    },
    "kernelspec": {
      "display_name": "Python 3 (ipykernel)",
      "language": "python",
      "name": "python3"
    },
    "language_info": {
      "codemirror_mode": {
        "name": "ipython",
        "version": 3
      },
      "file_extension": ".py",
      "mimetype": "text/x-python",
      "name": "python",
      "nbconvert_exporter": "python",
      "pygments_lexer": "ipython3",
      "version": "3.9.13"
    }
  },
  "nbformat": 4,
  "nbformat_minor": 5
}