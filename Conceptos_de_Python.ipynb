{
  "nbformat": 4,
  "nbformat_minor": 0,
  "metadata": {
    "colab": {
      "provenance": []
    },
    "kernelspec": {
      "name": "python3",
      "display_name": "Python 3"
    },
    "language_info": {
      "name": "python"
    }
  },
  "cells": [
    {
      "cell_type": "markdown",
      "source": [
        "## Participantes Equipo 2\n",
        "* Braian Peláez González\n",
        "* Omar Alejandro Villanueva Ortega\n",
        "* Elisa Paola Alvarez Borja\n",
        "* Gustavo Blas Duran\n",
        "* Brandon Alexis Tenorio Lugo\n",
        "* Andrés Amitai Reyes Cerecedo\n",
        "* Hiram Ivanhoe Fierro Salazar"
      ],
      "metadata": {
        "id": "yPuNcGM1PyKp"
      }
    },
    {
      "cell_type": "markdown",
      "source": [
        "### Agunos conceptos de python\n",
        "* Es un lenguaje orientado a objetos\n",
        "* Objetos: int, float, str, listas (list), vectores (arrays), conjuntos (set), diccionarios, DataFrames, etc."
      ],
      "metadata": {
        "id": "F7y_dDkyjcov"
      }
    },
    {
      "cell_type": "code",
      "execution_count": null,
      "metadata": {
        "colab": {
          "base_uri": "https://localhost:8080/"
        },
        "id": "gmaA2M1deyui",
        "outputId": "30b1f851-bc8a-41e8-bad3-47bf47792b48"
      },
      "outputs": [
        {
          "output_type": "stream",
          "name": "stdout",
          "text": [
            "9\n",
            "0.8\n",
            "20\n",
            "1024\n",
            "0\n"
          ]
        }
      ],
      "source": [
        "# celda de código\n",
        "\n",
        "print(4+5)\n",
        "print(4/5)\n",
        "print(4*5)\n",
        "print(4**5) # potencia\n",
        "print(4//5) # división al piso"
      ]
    },
    {
      "cell_type": "markdown",
      "source": [
        "División al piso: Si $x\\in \\mathbb{R}$ la función piso está definida comos $$\\lfloor x \\rfloor=\\max\\{m\\in \\mathbb{Z} \\mid m\\leq x \\}$$"
      ],
      "metadata": {
        "id": "9azOiEk9lSBG"
      }
    },
    {
      "cell_type": "markdown",
      "source": [
        "Operación modular: Sean $a$ y $b$ números reales, el resiuo de dividir a entre b se llama operación modular.\n",
        "\n",
        "En Python se escribe a%b.\n"
      ],
      "metadata": {
        "id": "I_qD2Ro2mhKj"
      }
    },
    {
      "cell_type": "code",
      "source": [
        "4%2\n"
      ],
      "metadata": {
        "colab": {
          "base_uri": "https://localhost:8080/"
        },
        "id": "sYE46e4RmzI2",
        "outputId": "724d6edd-4291-482d-bcb8-48b89eb921b2"
      },
      "execution_count": null,
      "outputs": [
        {
          "output_type": "execute_result",
          "data": {
            "text/plain": [
              "0"
            ]
          },
          "metadata": {},
          "execution_count": 3
        }
      ]
    },
    {
      "cell_type": "markdown",
      "source": [
        "### Listas\n",
        "\n",
        "Una lista es una manera de organizar objetos."
      ],
      "metadata": {
        "id": "VoyLHYBYncMQ"
      }
    },
    {
      "cell_type": "code",
      "source": [
        "# variables\n",
        "lista_1 = [1, 3.2, 'hola', False, {\"A\", \"S\"}]\n",
        "lista_1"
      ],
      "metadata": {
        "colab": {
          "base_uri": "https://localhost:8080/"
        },
        "id": "jMX7RYlEoLZc",
        "outputId": "2c457b63-9db2-41f7-a9da-738d7557cf94"
      },
      "execution_count": null,
      "outputs": [
        {
          "output_type": "execute_result",
          "data": {
            "text/plain": [
              "[1, 3.2, 'hola', False, {'A', 'S'}]"
            ]
          },
          "metadata": {},
          "execution_count": 5
        }
      ]
    },
    {
      "cell_type": "code",
      "source": [
        "# La función tyoe nos dice qué tipo de objeto se tiene.\n",
        "type(lista_1)"
      ],
      "metadata": {
        "colab": {
          "base_uri": "https://localhost:8080/"
        },
        "id": "31ccjkdCo5K6",
        "outputId": "52cc13e9-c667-46f1-cdaf-e4474f78cbbb"
      },
      "execution_count": null,
      "outputs": [
        {
          "output_type": "execute_result",
          "data": {
            "text/plain": [
              "list"
            ]
          },
          "metadata": {},
          "execution_count": 7
        }
      ]
    },
    {
      "cell_type": "markdown",
      "source": [
        "#### Ingresos a elementos.\n",
        "\n",
        "Si tenemos una lista\n",
        "$$L = [e_{1}, e_{2},, \\dots, e_{n}]$$\n",
        "Entonces si queremos ingresar al $e_{i}$ elemento:\n",
        "$$L[i-1]$$"
      ],
      "metadata": {
        "id": "TTStrM58q8_X"
      }
    },
    {
      "cell_type": "code",
      "source": [
        "type(lista_1[4])"
      ],
      "metadata": {
        "colab": {
          "base_uri": "https://localhost:8080/"
        },
        "id": "axV0M4msrXPM",
        "outputId": "8fd86516-bede-48a4-8f5a-b36ee008a3e8"
      },
      "execution_count": null,
      "outputs": [
        {
          "output_type": "execute_result",
          "data": {
            "text/plain": [
              "set"
            ]
          },
          "metadata": {},
          "execution_count": 18
        }
      ]
    },
    {
      "cell_type": "code",
      "source": [
        "lista_1[5]"
      ],
      "metadata": {
        "colab": {
          "base_uri": "https://localhost:8080/",
          "height": 141
        },
        "id": "7SUWKpYasgE2",
        "outputId": "1203a4b2-0f0d-4c99-ab47-6f7fc763dded"
      },
      "execution_count": null,
      "outputs": [
        {
          "output_type": "error",
          "ename": "IndexError",
          "evalue": "list index out of range",
          "traceback": [
            "\u001b[0;31m---------------------------------------------------------------------------\u001b[0m",
            "\u001b[0;31mIndexError\u001b[0m                                Traceback (most recent call last)",
            "\u001b[0;32m<ipython-input-19-f2e8ba98b710>\u001b[0m in \u001b[0;36m<cell line: 1>\u001b[0;34m()\u001b[0m\n\u001b[0;32m----> 1\u001b[0;31m \u001b[0mlista_1\u001b[0m\u001b[0;34m[\u001b[0m\u001b[0;36m5\u001b[0m\u001b[0;34m]\u001b[0m\u001b[0;34m\u001b[0m\u001b[0;34m\u001b[0m\u001b[0m\n\u001b[0m",
            "\u001b[0;31mIndexError\u001b[0m: list index out of range"
          ]
        }
      ]
    },
    {
      "cell_type": "markdown",
      "source": [
        "### Generador de índices (etiquetas de Python).\n",
        "\n",
        "Este generador de índices, se llama `range(n)`"
      ],
      "metadata": {
        "id": "I2bLOxDUs7eS"
      }
    },
    {
      "cell_type": "code",
      "source": [
        "range(10)"
      ],
      "metadata": {
        "colab": {
          "base_uri": "https://localhost:8080/"
        },
        "id": "8t38qOANtiZU",
        "outputId": "746bc323-eaa9-4cd2-c35b-79ae9dd3a4e3"
      },
      "execution_count": null,
      "outputs": [
        {
          "output_type": "execute_result",
          "data": {
            "text/plain": [
              "range(0, 10)"
            ]
          },
          "metadata": {},
          "execution_count": 20
        }
      ]
    },
    {
      "cell_type": "code",
      "source": [
        "for i in range(10):\n",
        "  print(i)"
      ],
      "metadata": {
        "colab": {
          "base_uri": "https://localhost:8080/"
        },
        "id": "1de4AFUauCO6",
        "outputId": "f16ee2f1-3e09-4cee-ba16-e30db91ccd57"
      },
      "execution_count": null,
      "outputs": [
        {
          "output_type": "stream",
          "name": "stdout",
          "text": [
            "0\n",
            "1\n",
            "2\n",
            "3\n",
            "4\n",
            "5\n",
            "6\n",
            "7\n",
            "8\n",
            "9\n"
          ]
        }
      ]
    },
    {
      "cell_type": "code",
      "source": [
        "\n",
        "lista_2 = [i for i in range(1,6)]\n",
        "lista_2"
      ],
      "metadata": {
        "colab": {
          "base_uri": "https://localhost:8080/"
        },
        "id": "1MoJGGsWuhFO",
        "outputId": "74ebd6f0-7dbd-4464-d069-f7f8ad490f2a"
      },
      "execution_count": null,
      "outputs": [
        {
          "output_type": "execute_result",
          "data": {
            "text/plain": [
              "[1, 2, 3, 4, 5]"
            ]
          },
          "metadata": {},
          "execution_count": 25
        }
      ]
    },
    {
      "cell_type": "code",
      "source": [
        "\n",
        "# Agregar elementos a una lista append\n",
        "\n",
        "L = []\n",
        "\n",
        "for i in range(2,6):\n",
        "  L.append(i)"
      ],
      "metadata": {
        "id": "vOGyJmC3vqZK"
      },
      "execution_count": null,
      "outputs": []
    },
    {
      "cell_type": "code",
      "source": [
        "L"
      ],
      "metadata": {
        "colab": {
          "base_uri": "https://localhost:8080/"
        },
        "id": "JOUSmIfvv0lD",
        "outputId": "2e50e1a8-4131-4276-816b-4608e869233e"
      },
      "execution_count": null,
      "outputs": [
        {
          "output_type": "execute_result",
          "data": {
            "text/plain": [
              "[2, 3, 4, 5]"
            ]
          },
          "metadata": {},
          "execution_count": 27
        }
      ]
    },
    {
      "cell_type": "markdown",
      "source": [
        "# Modelo clásico laplaciano"
      ],
      "metadata": {
        "id": "nMvpwVglptEA"
      }
    },
    {
      "cell_type": "markdown",
      "source": [
        "### Ejemplo: Lanzamiento de 3 monedas\n",
        "Se tiene el siguiente experimento aleatorio. Se lanzan de manera independiente 3 monedas.\n",
        "\n",
        "El espacio muestral es:\n",
        "$$\\Omega=\\{A, S\\}\\times \\{A, S\\}\\times \\{A, S\\}=\\{ A, S\\}^{3}$$\n",
        "\n",
        "\n"
      ],
      "metadata": {
        "id": "spQqFBDmpydu"
      }
    },
    {
      "cell_type": "markdown",
      "source": [
        "$$\\text{cardinalidad}(\\Omega)=2^3=8.$$"
      ],
      "metadata": {
        "id": "tqRUjXOrp1jr"
      }
    },
    {
      "cell_type": "markdown",
      "source": [
        "Tenemos\n",
        "$$\\mathcal{F}=p(\\Omega)$$\n",
        "$$\\text{cardinalidad}(\\mathcal{F})=2^{8}=256 \\text{ eventos}$$"
      ],
      "metadata": {
        "id": "wtDkD_E-0THm"
      }
    },
    {
      "cell_type": "markdown",
      "source": [
        "La diferencia entre el espacio muestral y la clase de eventos, es que el primero contiene todos los posibles resultados de nuestro experimento. Mientras que el segundo, contiene todos los subconjuntos contenidos en el espacio muestral."
      ],
      "metadata": {
        "id": "dN4r_Y3N1Lfg"
      }
    },
    {
      "cell_type": "markdown",
      "source": [
        "$\\color{cyan}{Definición \\ de \\ porbabilidad \\ clásica \\ (modelo \\ laplaciano)}$\n",
        "\n",
        "Si $E$ es un evento, la función de probabilidad:\n",
        "$${P}(E)=\\frac{\\text{card}(E)}{\\text{card}(\\Omega)}$$"
      ],
      "metadata": {
        "id": "WvSNn0d62Xv8"
      }
    },
    {
      "cell_type": "code",
      "source": [
        "2**8"
      ],
      "metadata": {
        "colab": {
          "base_uri": "https://localhost:8080/"
        },
        "id": "j-yVs7-H0x1Y",
        "outputId": "0a154dd7-1c06-4e88-de72-9dbafc2352c9"
      },
      "execution_count": null,
      "outputs": [
        {
          "output_type": "execute_result",
          "data": {
            "text/plain": [
              "256"
            ]
          },
          "metadata": {},
          "execution_count": 30
        }
      ]
    },
    {
      "cell_type": "code",
      "source": [
        "## Vamos a crear el código para Omega.\n",
        "import itertools\n",
        "from itertools import product\n",
        "\n",
        "Omega = set(product({'A', 'S'}, repeat = 3)) ## EL `set` puede ser cambiado por `list`\n",
        "Omega"
      ],
      "metadata": {
        "colab": {
          "base_uri": "https://localhost:8080/"
        },
        "id": "kGKbKB0rwrba",
        "outputId": "053671b9-27db-4dac-e990-b54c00004b2c"
      },
      "execution_count": null,
      "outputs": [
        {
          "output_type": "execute_result",
          "data": {
            "text/plain": [
              "{('A', 'A', 'A'),\n",
              " ('A', 'A', 'S'),\n",
              " ('A', 'S', 'A'),\n",
              " ('A', 'S', 'S'),\n",
              " ('S', 'A', 'A'),\n",
              " ('S', 'A', 'S'),\n",
              " ('S', 'S', 'A'),\n",
              " ('S', 'S', 'S')}"
            ]
          },
          "metadata": {},
          "execution_count": 28
        }
      ]
    },
    {
      "cell_type": "code",
      "source": [
        "len(Omega)"
      ],
      "metadata": {
        "colab": {
          "base_uri": "https://localhost:8080/"
        },
        "id": "NypR16Krz3a1",
        "outputId": "9a3ff368-7e4f-4211-abd3-5e199637bd78"
      },
      "execution_count": null,
      "outputs": [
        {
          "output_type": "execute_result",
          "data": {
            "text/plain": [
              "8"
            ]
          },
          "metadata": {},
          "execution_count": 29
        }
      ]
    },
    {
      "cell_type": "code",
      "source": [],
      "metadata": {
        "id": "sEdhRvDs4ZS9"
      },
      "execution_count": null,
      "outputs": []
    },
    {
      "cell_type": "markdown",
      "source": [
        "Consideremos los siguientes eventos:\n",
        "\n",
        "1. A: todas las caras sean águilas.\n",
        "2. S: todas las caras sean soles.\n",
        "3. E: por lo menos una cara sea sol.\n",
        "\n",
        "Vamos a contestar la primer pregunta.\n",
        "\n",
        "Llamemos como $A_{i}$ al evento donde cae águila en el $i$-ésimo resultado.\n",
        "\n",
        "Así,\n",
        "$$A=A_{1}\\cap A_{2}\\cap A_{3}$$"
      ],
      "metadata": {
        "id": "EXP7_YmF1wac"
      }
    },
    {
      "cell_type": "code",
      "source": [
        "# Creamos a nuestro primer evento A_1\n",
        "\n",
        "A_1 = {om for om in Omega if om[0] == 'A'}\n",
        "A_1"
      ],
      "metadata": {
        "colab": {
          "base_uri": "https://localhost:8080/"
        },
        "id": "l8kgi7Ml2Nsp",
        "outputId": "51f85840-120a-43df-8277-ed42eaa4cf04"
      },
      "execution_count": null,
      "outputs": [
        {
          "output_type": "execute_result",
          "data": {
            "text/plain": [
              "{('A', 'A', 'A'), ('A', 'A', 'S'), ('A', 'S', 'A'), ('A', 'S', 'S')}"
            ]
          },
          "metadata": {},
          "execution_count": 35
        }
      ]
    },
    {
      "cell_type": "code",
      "source": [
        "# Creamos a nuestro segundo evento A_2\n",
        "\n",
        "A_2 = {om for om in Omega if om[1] == 'A'}\n",
        "A_2"
      ],
      "metadata": {
        "colab": {
          "base_uri": "https://localhost:8080/"
        },
        "id": "mXv6DbV05YyL",
        "outputId": "00d03bd1-f2f2-485d-e93a-66c268d9fbc9"
      },
      "execution_count": null,
      "outputs": [
        {
          "output_type": "execute_result",
          "data": {
            "text/plain": [
              "{('A', 'A', 'A'), ('A', 'A', 'S'), ('S', 'A', 'A'), ('S', 'A', 'S')}"
            ]
          },
          "metadata": {},
          "execution_count": 36
        }
      ]
    },
    {
      "cell_type": "code",
      "source": [
        "# Creamos a nuestro tercer evento A_3\n",
        "\n",
        "A_3 = {om for om in Omega if om[2] == 'A'}\n",
        "A_3"
      ],
      "metadata": {
        "colab": {
          "base_uri": "https://localhost:8080/"
        },
        "id": "EhR42wzv5kHT",
        "outputId": "436d68fc-45a4-4e88-c6a1-8ae47c22506b"
      },
      "execution_count": null,
      "outputs": [
        {
          "output_type": "execute_result",
          "data": {
            "text/plain": [
              "{('A', 'A', 'A'), ('A', 'S', 'A'), ('S', 'A', 'A'), ('S', 'S', 'A')}"
            ]
          },
          "metadata": {},
          "execution_count": 37
        }
      ]
    },
    {
      "cell_type": "markdown",
      "source": [
        "Hay un atributo que tienen los conjuntos. Usamos la función `intersection`:"
      ],
      "metadata": {
        "id": "uc8UA0oj5wDG"
      }
    },
    {
      "cell_type": "code",
      "source": [
        "A = A_1.intersection(A_2.intersection(A_3))\n",
        "A"
      ],
      "metadata": {
        "colab": {
          "base_uri": "https://localhost:8080/"
        },
        "id": "p15KQEhX533a",
        "outputId": "eff18613-1316-45d6-9d08-a3252f73fb5c"
      },
      "execution_count": null,
      "outputs": [
        {
          "output_type": "execute_result",
          "data": {
            "text/plain": [
              "{('A', 'A', 'A')}"
            ]
          },
          "metadata": {},
          "execution_count": 38
        }
      ]
    },
    {
      "cell_type": "code",
      "source": [
        "P_A = len(A)/len(Omega)\n",
        "P_A"
      ],
      "metadata": {
        "colab": {
          "base_uri": "https://localhost:8080/"
        },
        "id": "-1ySrU346WMN",
        "outputId": "f785c141-4e91-4b65-8ba3-ee73b051dd5e"
      },
      "execution_count": null,
      "outputs": [
        {
          "output_type": "execute_result",
          "data": {
            "text/plain": [
              "0.125"
            ]
          },
          "metadata": {},
          "execution_count": 40
        }
      ]
    },
    {
      "cell_type": "markdown",
      "source": [
        "Una forma más directa de hacerlo es como sigue:"
      ],
      "metadata": {
        "id": "M7-OvkR08SD6"
      }
    },
    {
      "cell_type": "code",
      "source": [
        "A = {om for om in Omega if om.count(\"A\")==3}\n",
        "A"
      ],
      "metadata": {
        "colab": {
          "base_uri": "https://localhost:8080/"
        },
        "id": "HZjc-JkY8BSb",
        "outputId": "2e7d66fb-f7e6-4446-f7aa-f39b48045f15"
      },
      "execution_count": null,
      "outputs": [
        {
          "output_type": "execute_result",
          "data": {
            "text/plain": [
              "{('A', 'A', 'A')}"
            ]
          },
          "metadata": {},
          "execution_count": 41
        }
      ]
    },
    {
      "cell_type": "markdown",
      "source": [
        "#### Creación de funciones (globales).\n",
        "\n",
        "Vamos a crear una función que calcule la probabilidad de un evento dentro de un espacio muestral en el contexto clásico."
      ],
      "metadata": {
        "id": "7tW3wSKS83sv"
      }
    },
    {
      "cell_type": "code",
      "source": [
        "from fractions import Fraction\n",
        "\n",
        "def P(E, Omega):\n",
        "  p = Fraction(len(E),len(Omega))\n",
        "  return p"
      ],
      "metadata": {
        "id": "DNLmuD2s9R3R"
      },
      "execution_count": null,
      "outputs": []
    },
    {
      "cell_type": "code",
      "source": [
        "P(A, Omega)"
      ],
      "metadata": {
        "colab": {
          "base_uri": "https://localhost:8080/"
        },
        "id": "Qgia_298_Ey0",
        "outputId": "53691908-f0f7-4faa-90a5-63ea988b81f4"
      },
      "execution_count": null,
      "outputs": [
        {
          "output_type": "execute_result",
          "data": {
            "text/plain": [
              "Fraction(1, 8)"
            ]
          },
          "metadata": {},
          "execution_count": 47
        }
      ]
    },
    {
      "cell_type": "markdown",
      "source": [
        "### Con lo anterior vamos a contestar la segunda pregunta.\n",
        "\n",
        "Obtener la $P(S)$"
      ],
      "metadata": {
        "id": "-Y4w7t_Z_kWQ"
      }
    },
    {
      "cell_type": "code",
      "source": [
        "S = {om for om in Omega if om.count(\"S\") == 3}\n",
        "S"
      ],
      "metadata": {
        "colab": {
          "base_uri": "https://localhost:8080/"
        },
        "id": "Jcos_55S_XTK",
        "outputId": "3c5203c8-87c0-4feb-92ed-7a9982c52d6f"
      },
      "execution_count": null,
      "outputs": [
        {
          "output_type": "execute_result",
          "data": {
            "text/plain": [
              "{('S', 'S', 'S')}"
            ]
          },
          "metadata": {},
          "execution_count": 48
        }
      ]
    },
    {
      "cell_type": "code",
      "source": [
        "P(S, Omega)"
      ],
      "metadata": {
        "colab": {
          "base_uri": "https://localhost:8080/"
        },
        "id": "vyuGN3qe_hUN",
        "outputId": "bfe855dc-1bd0-4dc1-c1c4-59ec4b670547"
      },
      "execution_count": null,
      "outputs": [
        {
          "output_type": "execute_result",
          "data": {
            "text/plain": [
              "Fraction(1, 8)"
            ]
          },
          "metadata": {},
          "execution_count": 49
        }
      ]
    },
    {
      "cell_type": "markdown",
      "source": [
        "### Finalmente obtendremos la tercer pregunta.\n",
        "Obtener la $P(E)$"
      ],
      "metadata": {
        "id": "JMt4wf5NAUZG"
      }
    },
    {
      "cell_type": "code",
      "source": [
        "E = {om for om in Omega if om.count(\"S\")>=1}\n",
        "E"
      ],
      "metadata": {
        "colab": {
          "base_uri": "https://localhost:8080/"
        },
        "id": "umWIz1AQAhGA",
        "outputId": "5dca89c3-60a1-4c1c-a286-7c8d60424169"
      },
      "execution_count": null,
      "outputs": [
        {
          "output_type": "execute_result",
          "data": {
            "text/plain": [
              "{('A', 'A', 'S'),\n",
              " ('A', 'S', 'A'),\n",
              " ('A', 'S', 'S'),\n",
              " ('S', 'A', 'A'),\n",
              " ('S', 'A', 'S'),\n",
              " ('S', 'S', 'A'),\n",
              " ('S', 'S', 'S')}"
            ]
          },
          "metadata": {},
          "execution_count": 50
        }
      ]
    },
    {
      "cell_type": "code",
      "source": [
        "P(E, Omega)"
      ],
      "metadata": {
        "colab": {
          "base_uri": "https://localhost:8080/"
        },
        "id": "f-E_GrxCA0QC",
        "outputId": "9523d098-1cbb-44dc-bee1-28be87bbfcbd"
      },
      "execution_count": null,
      "outputs": [
        {
          "output_type": "execute_result",
          "data": {
            "text/plain": [
              "Fraction(7, 8)"
            ]
          },
          "metadata": {},
          "execution_count": 51
        }
      ]
    },
    {
      "cell_type": "markdown",
      "source": [
        "### Creando nuevo evento:\n",
        "\n",
        "1. F: Obtener al menos un Águila y al menos un Sol\n",
        "\n",
        "Obtener $P(F)$"
      ],
      "metadata": {
        "id": "YMma_QMjB4Gc"
      }
    },
    {
      "cell_type": "code",
      "source": [
        "F = {om for om in Omega if ((om.count(\"A\")>=1) & (om.count(\"S\")>=1))}\n",
        "F"
      ],
      "metadata": {
        "colab": {
          "base_uri": "https://localhost:8080/"
        },
        "id": "YuaIoiFiCZui",
        "outputId": "a21a879a-a543-436e-a0dd-1d73208eaa0f"
      },
      "execution_count": null,
      "outputs": [
        {
          "output_type": "execute_result",
          "data": {
            "text/plain": [
              "{('A', 'A', 'S'),\n",
              " ('A', 'S', 'A'),\n",
              " ('A', 'S', 'S'),\n",
              " ('S', 'A', 'A'),\n",
              " ('S', 'A', 'S'),\n",
              " ('S', 'S', 'A')}"
            ]
          },
          "metadata": {},
          "execution_count": 52
        }
      ]
    },
    {
      "cell_type": "code",
      "source": [
        "P(F, Omega)"
      ],
      "metadata": {
        "colab": {
          "base_uri": "https://localhost:8080/"
        },
        "id": "bx9Wo6oRDiAz",
        "outputId": "94d1ef91-dcac-4bb6-fff1-5362806def5d"
      },
      "execution_count": null,
      "outputs": [
        {
          "output_type": "execute_result",
          "data": {
            "text/plain": [
              "Fraction(3, 4)"
            ]
          },
          "metadata": {},
          "execution_count": 54
        }
      ]
    },
    {
      "cell_type": "markdown",
      "source": [],
      "metadata": {
        "id": "Gy2rE54MCqAD"
      }
    }
  ]
}